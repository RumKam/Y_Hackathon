{
 "cells": [
  {
   "cell_type": "markdown",
   "id": "9bea3649",
   "metadata": {
    "toc": true
   },
   "source": [
    "<h1>Table of Contents<span class=\"tocSkip\"></span></h1>\n",
    "<div class=\"toc\"><ul class=\"toc-item\"><li><span><a href=\"#Описание-проекта\" data-toc-modified-id=\"Описание-проекта-1\"><span class=\"toc-item-num\">1&nbsp;&nbsp;</span>Описание проекта</a></span><ul class=\"toc-item\"><li><span><a href=\"#Задача-проекта\" data-toc-modified-id=\"Задача-проекта-1.1\"><span class=\"toc-item-num\">1.1&nbsp;&nbsp;</span>Задача проекта</a></span></li><li><span><a href=\"#Цель-проекта\" data-toc-modified-id=\"Цель-проекта-1.2\"><span class=\"toc-item-num\">1.2&nbsp;&nbsp;</span>Цель проекта</a></span></li><li><span><a href=\"#Описание-данных\" data-toc-modified-id=\"Описание-данных-1.3\"><span class=\"toc-item-num\">1.3&nbsp;&nbsp;</span>Описание данных</a></span></li></ul></li><li><span><a href=\"#Загрузка-и-изучение-данных\" data-toc-modified-id=\"Загрузка-и-изучение-данных-2\"><span class=\"toc-item-num\">2&nbsp;&nbsp;</span>Загрузка и изучение данных</a></span></li><li><span><a href=\"#Предобработка-данных\" data-toc-modified-id=\"Предобработка-данных-3\"><span class=\"toc-item-num\">3&nbsp;&nbsp;</span>Предобработка данных</a></span></li><li><span><a href=\"#Исследовательский-анализ-данных\" data-toc-modified-id=\"Исследовательский-анализ-данных-4\"><span class=\"toc-item-num\">4&nbsp;&nbsp;</span>Исследовательский анализ данных</a></span></li><li><span><a href=\"#Обучение-модели\" data-toc-modified-id=\"Обучение-модели-5\"><span class=\"toc-item-num\">5&nbsp;&nbsp;</span>Обучение модели</a></span></li><li><span><a href=\"#Тестирование-модели\" data-toc-modified-id=\"Тестирование-модели-6\"><span class=\"toc-item-num\">6&nbsp;&nbsp;</span>Тестирование модели</a></span></li><li><span><a href=\"#Вывод\" data-toc-modified-id=\"Вывод-7\"><span class=\"toc-item-num\">7&nbsp;&nbsp;</span>Вывод</a></span></li></ul></div>"
   ]
  },
  {
   "cell_type": "markdown",
   "id": "56096c55",
   "metadata": {},
   "source": [
    "# Разработка алгоритма сервиса упаковщика для Яндекс Маркета"
   ]
  },
  {
   "cell_type": "markdown",
   "id": "3a59e272",
   "metadata": {},
   "source": [
    "## Описание проекта\n",
    "\n",
    "Компания заметила, что сотрудник тратит большое количество времени для выбора упаковочного материала, в которы необходимо упаковать товары. Существует большое количество упаковочного материала (коробочки, пакетики). Необходимо придумать способ подсказывать пользователю информацию о выборе упаковочного материала.\n",
    "\n",
    "### Задача проекта\n",
    "\n",
    "Необходимо придумать способ подсказывать пользователю информацию о выборе упаковочного материала, а также разработать интерфейс для упаковщика.\n",
    "\n",
    "### Цель проекта\n",
    "\n",
    "Необходимо с высокой точностью рекомендовать правильную упаковку для заказа, которая позволит доставить товары без порчи клиенту и минимизирует затраты на упаковочный материал.\n",
    "\n",
    " ### Описание данных\n",
    "    \n",
    "<b/>Заказы (data.csv) - Информация по заказам и товарам (sku), которые в них содержатся</b>\n",
    "    \n",
    "- whs - код сортировочного центра;\n",
    "- orderkey - id заказа;\n",
    "- selected_cartontype - код упаковки, которая была выбрана пользователем;\n",
    "- box_num - количество коробок;\n",
    "- recommended_cartontype - код упаковки, рекомендованной алгоритмом;\n",
    "- selected_carton - код упаковки, которая была выбрана пользователем (дубль);\n",
    "- sel_calc_cube - объём выбранной упаковки;\n",
    "- recommended_carton - код упаковки, рекомендованной алгоритмом (дубль);\n",
    "- pack_volume - рассчитанный объём упакованных товаров;\n",
    "- goods_wght - вес товара;\n",
    "- sku - id товара;\n",
    "- who - упаковщик;\n",
    "- trackingid - id доставки;\n",
    "    \n",
    "<b/>SKU (sku.csv) - Выгрузка id товаров и их размеров.</b>\n",
    "    \n",
    "- sku - id товара\n",
    "- a, b, c, - размеры\n",
    "    \n",
    "<b/>Карготипы товаров (sku_cargotypes.csv) - Выгрузка id товаров и их карготипов.</b>\n",
    "    \n",
    "- sku -  id товара\n",
    "- cargotype - карготип товара\n",
    "    \n",
    "<b/>Описание карготипов (cargotype_info.csv) - Таблица с идентификаторами карготипов и их описаниями</b>\n",
    "    \n",
    "- cargotype -  карготип\n",
    "- description - описание\n",
    "    \n",
    "<b/>Характеристики упаковок (carton.csv) - Таблица с идентификаторами и линейными размерами упаковок.</b>\n",
    "    \n",
    "- CARTONTYPE - идентификатор (код) упаковки;\n",
    "- LENGTH, WIDTH, HEIGTH - линейные размеры упаковки;\n",
    "- DISPLAYFRACK - коробка есть на складе (не учитывать для наших целей).\n",
    "    \n",
    "<b/>Стоимость упаковок (carton_price.xlsx) - Таблица с идентификаторами упаковок и их стоимостью.</b>\n",
    "    \n",
    "- идентификатор (код) упаковки\n",
    "- стоимость"
   ]
  },
  {
   "cell_type": "markdown",
   "id": "d5a4dace",
   "metadata": {},
   "source": [
    "## Загрузка и изучение данных"
   ]
  },
  {
   "cell_type": "code",
   "execution_count": 1,
   "id": "7a72cb2e",
   "metadata": {},
   "outputs": [],
   "source": [
    "#загрузим необходимые библиотеки\n",
    "\n",
    "import matplotlib.pyplot as plt\n",
    "import numpy as np\n",
    "import os\n",
    "import pandas as pd\n",
    "import phik\n",
    "import pickle\n",
    "import seaborn as sns\n",
    "import joblib\n",
    "import warnings\n",
    "\n",
    "from lightgbm import LGBMClassifier\n",
    "from sklearn.metrics import (\n",
    "    f1_score,\n",
    "    accuracy_score,\n",
    "    multilabel_confusion_matrix,\n",
    "    classification_report\n",
    ")\n",
    "from sklearn.model_selection import (\n",
    "    train_test_split, \n",
    "    RandomizedSearchCV\n",
    ")\n",
    "\n",
    "from sklearn.pipeline import Pipeline\n",
    "from sklearn.preprocessing import (\n",
    "    StandardScaler\n",
    ")\n",
    "\n",
    "from pickle import load\n",
    "\n",
    "# натроим некоторые параметры\n",
    "pd.set_option('display.max_columns', None)\n",
    "warnings.filterwarnings(\"ignore\")\n",
    "\n",
    "#зададим константу\n",
    "RANDOM_STATE = 42"
   ]
  },
  {
   "cell_type": "code",
   "execution_count": 2,
   "id": "c88cf149",
   "metadata": {},
   "outputs": [],
   "source": [
    "#создадим функцию для загрузки датасета\n",
    "def read_df(df):\n",
    "    if os.path.exists(df):\n",
    "        df_raw = pd.read_csv(df, index_col=0)\n",
    "        print('ok')\n",
    "        return df_raw\n",
    "    return print('error')"
   ]
  },
  {
   "cell_type": "code",
   "execution_count": 3,
   "id": "24a656e7",
   "metadata": {},
   "outputs": [
    {
     "name": "stdout",
     "output_type": "stream",
     "text": [
      "ok\n",
      "ok\n",
      "ok\n",
      "ok\n",
      "ok\n",
      "ok\n"
     ]
    }
   ],
   "source": [
    "#загрузим все датасеты\n",
    "data = read_df('data.csv')\n",
    "cargotype_info = read_df('cargotype_info.csv')\n",
    "carton = read_df('carton.csv')\n",
    "carton_price = read_df('carton_price.csv')\n",
    "sku = read_df('sku.csv')\n",
    "sku_cargotypes = read_df('sku_cargotypes.csv')"
   ]
  },
  {
   "cell_type": "code",
   "execution_count": 4,
   "id": "04041143",
   "metadata": {},
   "outputs": [],
   "source": [
    "#создадим функцию для вывода обзорного отчета по данным\n",
    "def mini_report(df):\n",
    "    print('Head')\n",
    "    display(df.head())\n",
    "    print('')\n",
    "    print('Describe')\n",
    "    display(df.describe())\n",
    "    print('')\n",
    "    display(df.info())\n",
    "    print('Всего пропущенных значений %', \n",
    "          pd.DataFrame(df.isna().mean()*100).sum())"
   ]
  },
  {
   "cell_type": "code",
   "execution_count": 5,
   "id": "0a4e74bf",
   "metadata": {},
   "outputs": [
    {
     "name": "stdout",
     "output_type": "stream",
     "text": [
      "Head\n"
     ]
    },
    {
     "data": {
      "text/html": [
       "<div>\n",
       "<style scoped>\n",
       "    .dataframe tbody tr th:only-of-type {\n",
       "        vertical-align: middle;\n",
       "    }\n",
       "\n",
       "    .dataframe tbody tr th {\n",
       "        vertical-align: top;\n",
       "    }\n",
       "\n",
       "    .dataframe thead th {\n",
       "        text-align: right;\n",
       "    }\n",
       "</style>\n",
       "<table border=\"1\" class=\"dataframe\">\n",
       "  <thead>\n",
       "    <tr style=\"text-align: right;\">\n",
       "      <th></th>\n",
       "      <th>whs</th>\n",
       "      <th>orderkey</th>\n",
       "      <th>selected_cartontype</th>\n",
       "      <th>box_num</th>\n",
       "      <th>recommended_cartontype</th>\n",
       "      <th>selected_carton</th>\n",
       "      <th>sel_calc_cube</th>\n",
       "      <th>recommended_carton</th>\n",
       "      <th>pack_volume</th>\n",
       "      <th>rec_calc_cube</th>\n",
       "      <th>goods_wght</th>\n",
       "      <th>sku</th>\n",
       "      <th>who</th>\n",
       "      <th>trackingid</th>\n",
       "    </tr>\n",
       "  </thead>\n",
       "  <tbody>\n",
       "    <tr>\n",
       "      <th>0</th>\n",
       "      <td>0</td>\n",
       "      <td>d48f3211c1ffccdc374f23139a9ab668</td>\n",
       "      <td>NONPACK</td>\n",
       "      <td>1</td>\n",
       "      <td>YML</td>\n",
       "      <td>NONPACK</td>\n",
       "      <td>0</td>\n",
       "      <td>YML</td>\n",
       "      <td>2046</td>\n",
       "      <td>108000</td>\n",
       "      <td>0.1</td>\n",
       "      <td>af49bf330e2cf16e44f0be1bdfe337bd</td>\n",
       "      <td>b7325da1af89a46059164618eb03ae38</td>\n",
       "      <td>6c304d5c2815ccd2ba5046c101294c24</td>\n",
       "    </tr>\n",
       "    <tr>\n",
       "      <th>1</th>\n",
       "      <td>0</td>\n",
       "      <td>d48f3211c1ffccdc374f23139a9ab668</td>\n",
       "      <td>NONPACK</td>\n",
       "      <td>1</td>\n",
       "      <td>YML</td>\n",
       "      <td>NONPACK</td>\n",
       "      <td>0</td>\n",
       "      <td>YML</td>\n",
       "      <td>2046</td>\n",
       "      <td>108000</td>\n",
       "      <td>0.1</td>\n",
       "      <td>af49bf330e2cf16e44f0be1bdfe337bd</td>\n",
       "      <td>b7325da1af89a46059164618eb03ae38</td>\n",
       "      <td>6c304d5c2815ccd2ba5046c101294c24</td>\n",
       "    </tr>\n",
       "    <tr>\n",
       "      <th>2</th>\n",
       "      <td>0</td>\n",
       "      <td>d48f3211c1ffccdc374f23139a9ab668</td>\n",
       "      <td>NONPACK</td>\n",
       "      <td>1</td>\n",
       "      <td>YML</td>\n",
       "      <td>NONPACK</td>\n",
       "      <td>0</td>\n",
       "      <td>YML</td>\n",
       "      <td>2046</td>\n",
       "      <td>108000</td>\n",
       "      <td>0.1</td>\n",
       "      <td>af49bf330e2cf16e44f0be1bdfe337bd</td>\n",
       "      <td>b7325da1af89a46059164618eb03ae38</td>\n",
       "      <td>6c304d5c2815ccd2ba5046c101294c24</td>\n",
       "    </tr>\n",
       "    <tr>\n",
       "      <th>3</th>\n",
       "      <td>0</td>\n",
       "      <td>d48f3211c1ffccdc374f23139a9ab668</td>\n",
       "      <td>NONPACK</td>\n",
       "      <td>1</td>\n",
       "      <td>YML</td>\n",
       "      <td>NONPACK</td>\n",
       "      <td>0</td>\n",
       "      <td>YML</td>\n",
       "      <td>2046</td>\n",
       "      <td>108000</td>\n",
       "      <td>0.1</td>\n",
       "      <td>af49bf330e2cf16e44f0be1bdfe337bd</td>\n",
       "      <td>b7325da1af89a46059164618eb03ae38</td>\n",
       "      <td>6c304d5c2815ccd2ba5046c101294c24</td>\n",
       "    </tr>\n",
       "    <tr>\n",
       "      <th>4</th>\n",
       "      <td>0</td>\n",
       "      <td>d48f3211c1ffccdc374f23139a9ab668</td>\n",
       "      <td>NONPACK</td>\n",
       "      <td>1</td>\n",
       "      <td>YML</td>\n",
       "      <td>NONPACK</td>\n",
       "      <td>0</td>\n",
       "      <td>YML</td>\n",
       "      <td>2046</td>\n",
       "      <td>108000</td>\n",
       "      <td>0.1</td>\n",
       "      <td>af49bf330e2cf16e44f0be1bdfe337bd</td>\n",
       "      <td>b7325da1af89a46059164618eb03ae38</td>\n",
       "      <td>6c304d5c2815ccd2ba5046c101294c24</td>\n",
       "    </tr>\n",
       "  </tbody>\n",
       "</table>\n",
       "</div>"
      ],
      "text/plain": [
       "   whs                          orderkey selected_cartontype  box_num  \\\n",
       "0    0  d48f3211c1ffccdc374f23139a9ab668             NONPACK        1   \n",
       "1    0  d48f3211c1ffccdc374f23139a9ab668             NONPACK        1   \n",
       "2    0  d48f3211c1ffccdc374f23139a9ab668             NONPACK        1   \n",
       "3    0  d48f3211c1ffccdc374f23139a9ab668             NONPACK        1   \n",
       "4    0  d48f3211c1ffccdc374f23139a9ab668             NONPACK        1   \n",
       "\n",
       "  recommended_cartontype selected_carton  sel_calc_cube recommended_carton  \\\n",
       "0                    YML         NONPACK              0                YML   \n",
       "1                    YML         NONPACK              0                YML   \n",
       "2                    YML         NONPACK              0                YML   \n",
       "3                    YML         NONPACK              0                YML   \n",
       "4                    YML         NONPACK              0                YML   \n",
       "\n",
       "   pack_volume  rec_calc_cube  goods_wght                               sku  \\\n",
       "0         2046         108000         0.1  af49bf330e2cf16e44f0be1bdfe337bd   \n",
       "1         2046         108000         0.1  af49bf330e2cf16e44f0be1bdfe337bd   \n",
       "2         2046         108000         0.1  af49bf330e2cf16e44f0be1bdfe337bd   \n",
       "3         2046         108000         0.1  af49bf330e2cf16e44f0be1bdfe337bd   \n",
       "4         2046         108000         0.1  af49bf330e2cf16e44f0be1bdfe337bd   \n",
       "\n",
       "                                who                        trackingid  \n",
       "0  b7325da1af89a46059164618eb03ae38  6c304d5c2815ccd2ba5046c101294c24  \n",
       "1  b7325da1af89a46059164618eb03ae38  6c304d5c2815ccd2ba5046c101294c24  \n",
       "2  b7325da1af89a46059164618eb03ae38  6c304d5c2815ccd2ba5046c101294c24  \n",
       "3  b7325da1af89a46059164618eb03ae38  6c304d5c2815ccd2ba5046c101294c24  \n",
       "4  b7325da1af89a46059164618eb03ae38  6c304d5c2815ccd2ba5046c101294c24  "
      ]
     },
     "metadata": {},
     "output_type": "display_data"
    },
    {
     "name": "stdout",
     "output_type": "stream",
     "text": [
      "\n",
      "Describe\n"
     ]
    },
    {
     "data": {
      "text/html": [
       "<div>\n",
       "<style scoped>\n",
       "    .dataframe tbody tr th:only-of-type {\n",
       "        vertical-align: middle;\n",
       "    }\n",
       "\n",
       "    .dataframe tbody tr th {\n",
       "        vertical-align: top;\n",
       "    }\n",
       "\n",
       "    .dataframe thead th {\n",
       "        text-align: right;\n",
       "    }\n",
       "</style>\n",
       "<table border=\"1\" class=\"dataframe\">\n",
       "  <thead>\n",
       "    <tr style=\"text-align: right;\">\n",
       "      <th></th>\n",
       "      <th>whs</th>\n",
       "      <th>box_num</th>\n",
       "      <th>sel_calc_cube</th>\n",
       "      <th>pack_volume</th>\n",
       "      <th>rec_calc_cube</th>\n",
       "      <th>goods_wght</th>\n",
       "    </tr>\n",
       "  </thead>\n",
       "  <tbody>\n",
       "    <tr>\n",
       "      <th>count</th>\n",
       "      <td>325623.000000</td>\n",
       "      <td>325623.000000</td>\n",
       "      <td>325623.000000</td>\n",
       "      <td>3.256230e+05</td>\n",
       "      <td>325623.000000</td>\n",
       "      <td>325623.000000</td>\n",
       "    </tr>\n",
       "    <tr>\n",
       "      <th>mean</th>\n",
       "      <td>1.366166</td>\n",
       "      <td>2.787773</td>\n",
       "      <td>11188.402656</td>\n",
       "      <td>5.440790e+03</td>\n",
       "      <td>18253.646168</td>\n",
       "      <td>1.134705</td>\n",
       "    </tr>\n",
       "    <tr>\n",
       "      <th>std</th>\n",
       "      <td>2.098641</td>\n",
       "      <td>15.774209</td>\n",
       "      <td>13958.516542</td>\n",
       "      <td>2.858190e+04</td>\n",
       "      <td>26745.365119</td>\n",
       "      <td>4.090043</td>\n",
       "    </tr>\n",
       "    <tr>\n",
       "      <th>min</th>\n",
       "      <td>0.000000</td>\n",
       "      <td>1.000000</td>\n",
       "      <td>0.000000</td>\n",
       "      <td>0.000000e+00</td>\n",
       "      <td>0.000000</td>\n",
       "      <td>0.000000</td>\n",
       "    </tr>\n",
       "    <tr>\n",
       "      <th>25%</th>\n",
       "      <td>0.000000</td>\n",
       "      <td>1.000000</td>\n",
       "      <td>3449.000000</td>\n",
       "      <td>5.000000e+02</td>\n",
       "      <td>3449.000000</td>\n",
       "      <td>0.110000</td>\n",
       "    </tr>\n",
       "    <tr>\n",
       "      <th>50%</th>\n",
       "      <td>0.000000</td>\n",
       "      <td>1.000000</td>\n",
       "      <td>8436.000000</td>\n",
       "      <td>1.192000e+03</td>\n",
       "      <td>8525.000000</td>\n",
       "      <td>0.300000</td>\n",
       "    </tr>\n",
       "    <tr>\n",
       "      <th>75%</th>\n",
       "      <td>3.000000</td>\n",
       "      <td>1.000000</td>\n",
       "      <td>15579.000000</td>\n",
       "      <td>3.154000e+03</td>\n",
       "      <td>18270.000000</td>\n",
       "      <td>0.799000</td>\n",
       "    </tr>\n",
       "    <tr>\n",
       "      <th>max</th>\n",
       "      <td>7.000000</td>\n",
       "      <td>235.000000</td>\n",
       "      <td>108000.000000</td>\n",
       "      <td>1.815450e+06</td>\n",
       "      <td>108000.000000</td>\n",
       "      <td>153.700000</td>\n",
       "    </tr>\n",
       "  </tbody>\n",
       "</table>\n",
       "</div>"
      ],
      "text/plain": [
       "                 whs        box_num  sel_calc_cube   pack_volume  \\\n",
       "count  325623.000000  325623.000000  325623.000000  3.256230e+05   \n",
       "mean        1.366166       2.787773   11188.402656  5.440790e+03   \n",
       "std         2.098641      15.774209   13958.516542  2.858190e+04   \n",
       "min         0.000000       1.000000       0.000000  0.000000e+00   \n",
       "25%         0.000000       1.000000    3449.000000  5.000000e+02   \n",
       "50%         0.000000       1.000000    8436.000000  1.192000e+03   \n",
       "75%         3.000000       1.000000   15579.000000  3.154000e+03   \n",
       "max         7.000000     235.000000  108000.000000  1.815450e+06   \n",
       "\n",
       "       rec_calc_cube     goods_wght  \n",
       "count  325623.000000  325623.000000  \n",
       "mean    18253.646168       1.134705  \n",
       "std     26745.365119       4.090043  \n",
       "min         0.000000       0.000000  \n",
       "25%      3449.000000       0.110000  \n",
       "50%      8525.000000       0.300000  \n",
       "75%     18270.000000       0.799000  \n",
       "max    108000.000000     153.700000  "
      ]
     },
     "metadata": {},
     "output_type": "display_data"
    },
    {
     "name": "stdout",
     "output_type": "stream",
     "text": [
      "\n",
      "<class 'pandas.core.frame.DataFrame'>\n",
      "Index: 325623 entries, 0 to 325622\n",
      "Data columns (total 14 columns):\n",
      " #   Column                  Non-Null Count   Dtype  \n",
      "---  ------                  --------------   -----  \n",
      " 0   whs                     325623 non-null  int64  \n",
      " 1   orderkey                325623 non-null  object \n",
      " 2   selected_cartontype     325623 non-null  object \n",
      " 3   box_num                 325623 non-null  int64  \n",
      " 4   recommended_cartontype  325623 non-null  object \n",
      " 5   selected_carton         325623 non-null  object \n",
      " 6   sel_calc_cube           325623 non-null  int64  \n",
      " 7   recommended_carton      325623 non-null  object \n",
      " 8   pack_volume             325623 non-null  int64  \n",
      " 9   rec_calc_cube           325623 non-null  int64  \n",
      " 10  goods_wght              325623 non-null  float64\n",
      " 11  sku                     325623 non-null  object \n",
      " 12  who                     325623 non-null  object \n",
      " 13  trackingid              325623 non-null  object \n",
      "dtypes: float64(1), int64(5), object(8)\n",
      "memory usage: 37.3+ MB\n"
     ]
    },
    {
     "data": {
      "text/plain": [
       "None"
      ]
     },
     "metadata": {},
     "output_type": "display_data"
    },
    {
     "name": "stdout",
     "output_type": "stream",
     "text": [
      "Всего пропущенных значений % 0    0.0\n",
      "dtype: float64\n"
     ]
    }
   ],
   "source": [
    "# выведем отчет по первому датасету\n",
    "mini_report(data)"
   ]
  },
  {
   "cell_type": "code",
   "execution_count": 6,
   "id": "3b026209",
   "metadata": {},
   "outputs": [
    {
     "data": {
      "text/plain": [
       "170565"
      ]
     },
     "execution_count": 6,
     "metadata": {},
     "output_type": "execute_result"
    }
   ],
   "source": [
    "# проверим количество уникальных значений\n",
    "len(data['trackingid'].unique())"
   ]
  },
  {
   "cell_type": "code",
   "execution_count": 7,
   "id": "4df0d527",
   "metadata": {},
   "outputs": [
    {
     "data": {
      "text/plain": [
       "159899"
      ]
     },
     "execution_count": 7,
     "metadata": {},
     "output_type": "execute_result"
    }
   ],
   "source": [
    "# проверим количество уникальных значений\n",
    "len(data['orderkey'].unique())"
   ]
  },
  {
   "cell_type": "code",
   "execution_count": 8,
   "id": "3bfd9feb",
   "metadata": {},
   "outputs": [
    {
     "data": {
      "text/plain": [
       "whs\n",
       "0    203685\n",
       "4     31990\n",
       "3     28345\n",
       "7     16987\n",
       "1     16963\n",
       "2     16611\n",
       "6      7556\n",
       "5      3486\n",
       "Name: count, dtype: int64"
      ]
     },
     "execution_count": 8,
     "metadata": {},
     "output_type": "execute_result"
    }
   ],
   "source": [
    "#посмотрим на данные в столбце whs\n",
    "data['whs'].value_counts()"
   ]
  },
  {
   "cell_type": "markdown",
   "id": "5691d78d",
   "metadata": {},
   "source": [
    "В таблице data встречаются дубликаты столбцов, можно удалить selected_carton и recommended_carton. Столбец whs - код сортировочного центра, можно удалить. Пропусков нет. В столбце orderkey встречаются дублирубщиеся ключи. Поскольку в одном заказе есть несколько товаров, сами товары могут повторяться, никакие дубликаты удаляться не будут. С типами данных проблем нет. "
   ]
  },
  {
   "cell_type": "code",
   "execution_count": 9,
   "id": "cfc8bf55",
   "metadata": {},
   "outputs": [
    {
     "name": "stdout",
     "output_type": "stream",
     "text": [
      "Head\n"
     ]
    },
    {
     "data": {
      "text/html": [
       "<div>\n",
       "<style scoped>\n",
       "    .dataframe tbody tr th:only-of-type {\n",
       "        vertical-align: middle;\n",
       "    }\n",
       "\n",
       "    .dataframe tbody tr th {\n",
       "        vertical-align: top;\n",
       "    }\n",
       "\n",
       "    .dataframe thead th {\n",
       "        text-align: right;\n",
       "    }\n",
       "</style>\n",
       "<table border=\"1\" class=\"dataframe\">\n",
       "  <thead>\n",
       "    <tr style=\"text-align: right;\">\n",
       "      <th></th>\n",
       "      <th>Unnamed: 0</th>\n",
       "      <th>01.03.2023</th>\n",
       "    </tr>\n",
       "  </thead>\n",
       "  <tbody>\n",
       "    <tr>\n",
       "      <th>0</th>\n",
       "      <td>MYA</td>\n",
       "      <td>1.109861</td>\n",
       "    </tr>\n",
       "    <tr>\n",
       "      <th>1</th>\n",
       "      <td>MYB</td>\n",
       "      <td>2.297432</td>\n",
       "    </tr>\n",
       "    <tr>\n",
       "      <th>2</th>\n",
       "      <td>MYC</td>\n",
       "      <td>3.616713</td>\n",
       "    </tr>\n",
       "    <tr>\n",
       "      <th>3</th>\n",
       "      <td>MYD</td>\n",
       "      <td>6.918375</td>\n",
       "    </tr>\n",
       "    <tr>\n",
       "      <th>4</th>\n",
       "      <td>MYE</td>\n",
       "      <td>8.062722</td>\n",
       "    </tr>\n",
       "  </tbody>\n",
       "</table>\n",
       "</div>"
      ],
      "text/plain": [
       "  Unnamed: 0  01.03.2023\n",
       "0        MYA    1.109861\n",
       "1        MYB    2.297432\n",
       "2        MYC    3.616713\n",
       "3        MYD    6.918375\n",
       "4        MYE    8.062722"
      ]
     },
     "metadata": {},
     "output_type": "display_data"
    },
    {
     "name": "stdout",
     "output_type": "stream",
     "text": [
      "\n",
      "Describe\n"
     ]
    },
    {
     "data": {
      "text/html": [
       "<div>\n",
       "<style scoped>\n",
       "    .dataframe tbody tr th:only-of-type {\n",
       "        vertical-align: middle;\n",
       "    }\n",
       "\n",
       "    .dataframe tbody tr th {\n",
       "        vertical-align: top;\n",
       "    }\n",
       "\n",
       "    .dataframe thead th {\n",
       "        text-align: right;\n",
       "    }\n",
       "</style>\n",
       "<table border=\"1\" class=\"dataframe\">\n",
       "  <thead>\n",
       "    <tr style=\"text-align: right;\">\n",
       "      <th></th>\n",
       "      <th>01.03.2023</th>\n",
       "    </tr>\n",
       "  </thead>\n",
       "  <tbody>\n",
       "    <tr>\n",
       "      <th>count</th>\n",
       "      <td>15.000000</td>\n",
       "    </tr>\n",
       "    <tr>\n",
       "      <th>mean</th>\n",
       "      <td>14.067584</td>\n",
       "    </tr>\n",
       "    <tr>\n",
       "      <th>std</th>\n",
       "      <td>12.921889</td>\n",
       "    </tr>\n",
       "    <tr>\n",
       "      <th>min</th>\n",
       "      <td>1.109861</td>\n",
       "    </tr>\n",
       "    <tr>\n",
       "      <th>25%</th>\n",
       "      <td>4.238034</td>\n",
       "    </tr>\n",
       "    <tr>\n",
       "      <th>50%</th>\n",
       "      <td>8.062722</td>\n",
       "    </tr>\n",
       "    <tr>\n",
       "      <th>75%</th>\n",
       "      <td>20.568314</td>\n",
       "    </tr>\n",
       "    <tr>\n",
       "      <th>max</th>\n",
       "      <td>40.911178</td>\n",
       "    </tr>\n",
       "  </tbody>\n",
       "</table>\n",
       "</div>"
      ],
      "text/plain": [
       "       01.03.2023\n",
       "count   15.000000\n",
       "mean    14.067584\n",
       "std     12.921889\n",
       "min      1.109861\n",
       "25%      4.238034\n",
       "50%      8.062722\n",
       "75%     20.568314\n",
       "max     40.911178"
      ]
     },
     "metadata": {},
     "output_type": "display_data"
    },
    {
     "name": "stdout",
     "output_type": "stream",
     "text": [
      "\n",
      "<class 'pandas.core.frame.DataFrame'>\n",
      "Index: 15 entries, 0 to 14\n",
      "Data columns (total 2 columns):\n",
      " #   Column      Non-Null Count  Dtype  \n",
      "---  ------      --------------  -----  \n",
      " 0   Unnamed: 0  15 non-null     object \n",
      " 1   01.03.2023  15 non-null     float64\n",
      "dtypes: float64(1), object(1)\n",
      "memory usage: 360.0+ bytes\n"
     ]
    },
    {
     "data": {
      "text/plain": [
       "None"
      ]
     },
     "metadata": {},
     "output_type": "display_data"
    },
    {
     "name": "stdout",
     "output_type": "stream",
     "text": [
      "Всего пропущенных значений % 0    0.0\n",
      "dtype: float64\n"
     ]
    }
   ],
   "source": [
    "# выведем отчет по второму датасету\n",
    "mini_report(carton_price)"
   ]
  },
  {
   "cell_type": "code",
   "execution_count": 10,
   "id": "df914156",
   "metadata": {},
   "outputs": [
    {
     "data": {
      "text/plain": [
       "array(['MYA', 'MYB', 'MYC', 'MYD', 'MYE', 'MYF', 'YMA', 'YMC', 'YME',\n",
       "       'YMF', 'YMG', 'YML', 'YMW', 'YMX', 'YMY'], dtype=object)"
      ]
     },
     "execution_count": 10,
     "metadata": {},
     "output_type": "execute_result"
    }
   ],
   "source": [
    "# посмотрим на уникальные значения\n",
    "carton_price['Unnamed: 0'].unique()"
   ]
  },
  {
   "cell_type": "markdown",
   "id": "e40a041a",
   "metadata": {},
   "source": [
    "Таблицу carton_price необходимо преобразовать: заменить названия столбцов, чтобы можно было выполнить объединение. Пропусков в данных также нет. Дубликаты не встречаются и типы данных корректны."
   ]
  },
  {
   "cell_type": "code",
   "execution_count": 11,
   "id": "5fe42385",
   "metadata": {},
   "outputs": [
    {
     "name": "stdout",
     "output_type": "stream",
     "text": [
      "Head\n"
     ]
    },
    {
     "data": {
      "text/html": [
       "<div>\n",
       "<style scoped>\n",
       "    .dataframe tbody tr th:only-of-type {\n",
       "        vertical-align: middle;\n",
       "    }\n",
       "\n",
       "    .dataframe tbody tr th {\n",
       "        vertical-align: top;\n",
       "    }\n",
       "\n",
       "    .dataframe thead th {\n",
       "        text-align: right;\n",
       "    }\n",
       "</style>\n",
       "<table border=\"1\" class=\"dataframe\">\n",
       "  <thead>\n",
       "    <tr style=\"text-align: right;\">\n",
       "      <th></th>\n",
       "      <th>cargotype</th>\n",
       "      <th>description</th>\n",
       "    </tr>\n",
       "  </thead>\n",
       "  <tbody>\n",
       "    <tr>\n",
       "      <th>0</th>\n",
       "      <td>770.0</td>\n",
       "      <td>консервы</td>\n",
       "    </tr>\n",
       "    <tr>\n",
       "      <th>1</th>\n",
       "      <td>301.0</td>\n",
       "      <td>тяжеловесный и крупногабаритный 20кг</td>\n",
       "    </tr>\n",
       "    <tr>\n",
       "      <th>2</th>\n",
       "      <td>980.0</td>\n",
       "      <td>Требует обязательной маркировки</td>\n",
       "    </tr>\n",
       "    <tr>\n",
       "      <th>3</th>\n",
       "      <td>985.0</td>\n",
       "      <td>Не требует наличия маркировки, но требует выво...</td>\n",
       "    </tr>\n",
       "    <tr>\n",
       "      <th>4</th>\n",
       "      <td>990.0</td>\n",
       "      <td>Потребует обязательной маркировки в ближайшем ...</td>\n",
       "    </tr>\n",
       "  </tbody>\n",
       "</table>\n",
       "</div>"
      ],
      "text/plain": [
       "   cargotype                                        description\n",
       "0      770.0                                           консервы\n",
       "1      301.0               тяжеловесный и крупногабаритный 20кг\n",
       "2      980.0                    Требует обязательной маркировки\n",
       "3      985.0  Не требует наличия маркировки, но требует выво...\n",
       "4      990.0  Потребует обязательной маркировки в ближайшем ..."
      ]
     },
     "metadata": {},
     "output_type": "display_data"
    },
    {
     "name": "stdout",
     "output_type": "stream",
     "text": [
      "\n",
      "Describe\n"
     ]
    },
    {
     "data": {
      "text/html": [
       "<div>\n",
       "<style scoped>\n",
       "    .dataframe tbody tr th:only-of-type {\n",
       "        vertical-align: middle;\n",
       "    }\n",
       "\n",
       "    .dataframe tbody tr th {\n",
       "        vertical-align: top;\n",
       "    }\n",
       "\n",
       "    .dataframe thead th {\n",
       "        text-align: right;\n",
       "    }\n",
       "</style>\n",
       "<table border=\"1\" class=\"dataframe\">\n",
       "  <thead>\n",
       "    <tr style=\"text-align: right;\">\n",
       "      <th></th>\n",
       "      <th>cargotype</th>\n",
       "    </tr>\n",
       "  </thead>\n",
       "  <tbody>\n",
       "    <tr>\n",
       "      <th>count</th>\n",
       "      <td>96.000000</td>\n",
       "    </tr>\n",
       "    <tr>\n",
       "      <th>mean</th>\n",
       "      <td>547.697917</td>\n",
       "    </tr>\n",
       "    <tr>\n",
       "      <th>std</th>\n",
       "      <td>305.272617</td>\n",
       "    </tr>\n",
       "    <tr>\n",
       "      <th>min</th>\n",
       "      <td>0.000000</td>\n",
       "    </tr>\n",
       "    <tr>\n",
       "      <th>25%</th>\n",
       "      <td>302.750000</td>\n",
       "    </tr>\n",
       "    <tr>\n",
       "      <th>50%</th>\n",
       "      <td>600.500000</td>\n",
       "    </tr>\n",
       "    <tr>\n",
       "      <th>75%</th>\n",
       "      <td>772.500000</td>\n",
       "    </tr>\n",
       "    <tr>\n",
       "      <th>max</th>\n",
       "      <td>1300.000000</td>\n",
       "    </tr>\n",
       "  </tbody>\n",
       "</table>\n",
       "</div>"
      ],
      "text/plain": [
       "         cargotype\n",
       "count    96.000000\n",
       "mean    547.697917\n",
       "std     305.272617\n",
       "min       0.000000\n",
       "25%     302.750000\n",
       "50%     600.500000\n",
       "75%     772.500000\n",
       "max    1300.000000"
      ]
     },
     "metadata": {},
     "output_type": "display_data"
    },
    {
     "name": "stdout",
     "output_type": "stream",
     "text": [
      "\n",
      "<class 'pandas.core.frame.DataFrame'>\n",
      "Index: 98 entries, 0 to 97\n",
      "Data columns (total 2 columns):\n",
      " #   Column       Non-Null Count  Dtype  \n",
      "---  ------       --------------  -----  \n",
      " 0   cargotype    96 non-null     float64\n",
      " 1   description  98 non-null     object \n",
      "dtypes: float64(1), object(1)\n",
      "memory usage: 2.3+ KB\n"
     ]
    },
    {
     "data": {
      "text/plain": [
       "None"
      ]
     },
     "metadata": {},
     "output_type": "display_data"
    },
    {
     "name": "stdout",
     "output_type": "stream",
     "text": [
      "Всего пропущенных значений % 0    2.040816\n",
      "dtype: float64\n"
     ]
    }
   ],
   "source": [
    "# выведем отчет по третьему датасету\n",
    "mini_report(cargotype_info)"
   ]
  },
  {
   "cell_type": "code",
   "execution_count": 12,
   "id": "af486c76",
   "metadata": {},
   "outputs": [
    {
     "data": {
      "text/plain": [
       "array([ 770.,  301.,  980.,  985.,  990.,  910.,  900.,   10.,   50.,\n",
       "        100.,  200.,  220.,  500.,  460.,  720.,  955.,   40.,  470.,\n",
       "        800.,  960.,  450.,  700.,  710.,  950.,  230.,  440.,  485.,\n",
       "        790.,  150.,  310.,  420.,  970.,  490.,  750.,  510.,  480.,\n",
       "         80.,  520.,  760.,  780.,    0.,  400.,  320.,  300.,   20.,\n",
       "        799.,  140.,  160.,  130.,  120.,  410.,  752.,  751.,  110.,\n",
       "        600.,  315.,  330.,  905.,  907.,  305.,  601.,  302.,  340.,\n",
       "        303.,   nan,  291.,  290.,  292.,  920.,  350., 1010.,  210.,\n",
       "         81.,  441.,  610.,  611.,  641.,  672.,  671.,  930.,  931.,\n",
       "        620.,  622.,  621.,  623.,  692.,  673.,  801.,  690.,  670.,\n",
       "        901.,  691.,  640.,  908., 1300., 1200.,  360.])"
      ]
     },
     "execution_count": 12,
     "metadata": {},
     "output_type": "execute_result"
    }
   ],
   "source": [
    "# посмотрим на уникальные значения\n",
    "cargotype_info['cargotype'].unique()"
   ]
  },
  {
   "cell_type": "code",
   "execution_count": 13,
   "id": "270f24e5",
   "metadata": {},
   "outputs": [
    {
     "data": {
      "text/html": [
       "<div>\n",
       "<style scoped>\n",
       "    .dataframe tbody tr th:only-of-type {\n",
       "        vertical-align: middle;\n",
       "    }\n",
       "\n",
       "    .dataframe tbody tr th {\n",
       "        vertical-align: top;\n",
       "    }\n",
       "\n",
       "    .dataframe thead th {\n",
       "        text-align: right;\n",
       "    }\n",
       "</style>\n",
       "<table border=\"1\" class=\"dataframe\">\n",
       "  <thead>\n",
       "    <tr style=\"text-align: right;\">\n",
       "      <th></th>\n",
       "      <th>cargotype</th>\n",
       "      <th>description</th>\n",
       "    </tr>\n",
       "  </thead>\n",
       "  <tbody>\n",
       "    <tr>\n",
       "      <th>64</th>\n",
       "      <td>NaN</td>\n",
       "      <td>2023-04-11</td>\n",
       "    </tr>\n",
       "    <tr>\n",
       "      <th>67</th>\n",
       "      <td>NaN</td>\n",
       "      <td>2023-04-11</td>\n",
       "    </tr>\n",
       "  </tbody>\n",
       "</table>\n",
       "</div>"
      ],
      "text/plain": [
       "    cargotype description\n",
       "64        NaN  2023-04-11\n",
       "67        NaN  2023-04-11"
      ]
     },
     "execution_count": 13,
     "metadata": {},
     "output_type": "execute_result"
    }
   ],
   "source": [
    "#посмотрим на пропуски\n",
    "cargotype_info[cargotype_info['cargotype'].isnull()]"
   ]
  },
  {
   "cell_type": "markdown",
   "id": "a3fdb15f",
   "metadata": {},
   "source": [
    "В таблице cargotype_info встречаются пропуски с значениями непонятного происхождения. Их можно удалить. С типами данных все корректно."
   ]
  },
  {
   "cell_type": "code",
   "execution_count": 14,
   "id": "1d320468",
   "metadata": {},
   "outputs": [
    {
     "name": "stdout",
     "output_type": "stream",
     "text": [
      "Head\n"
     ]
    },
    {
     "data": {
      "text/html": [
       "<div>\n",
       "<style scoped>\n",
       "    .dataframe tbody tr th:only-of-type {\n",
       "        vertical-align: middle;\n",
       "    }\n",
       "\n",
       "    .dataframe tbody tr th {\n",
       "        vertical-align: top;\n",
       "    }\n",
       "\n",
       "    .dataframe thead th {\n",
       "        text-align: right;\n",
       "    }\n",
       "</style>\n",
       "<table border=\"1\" class=\"dataframe\">\n",
       "  <thead>\n",
       "    <tr style=\"text-align: right;\">\n",
       "      <th></th>\n",
       "      <th>LENGTH</th>\n",
       "      <th>WIDTH</th>\n",
       "      <th>HEIGHT</th>\n",
       "      <th>DISPLAYRFPACK</th>\n",
       "    </tr>\n",
       "    <tr>\n",
       "      <th>CARTONTYPE</th>\n",
       "      <th></th>\n",
       "      <th></th>\n",
       "      <th></th>\n",
       "      <th></th>\n",
       "    </tr>\n",
       "  </thead>\n",
       "  <tbody>\n",
       "    <tr>\n",
       "      <th>YMA</th>\n",
       "      <td>24.7</td>\n",
       "      <td>15.0</td>\n",
       "      <td>10.0</td>\n",
       "      <td>1</td>\n",
       "    </tr>\n",
       "    <tr>\n",
       "      <th>YMC</th>\n",
       "      <td>30.0</td>\n",
       "      <td>20.0</td>\n",
       "      <td>15.0</td>\n",
       "      <td>1</td>\n",
       "    </tr>\n",
       "    <tr>\n",
       "      <th>YME</th>\n",
       "      <td>30.0</td>\n",
       "      <td>30.0</td>\n",
       "      <td>44.5</td>\n",
       "      <td>1</td>\n",
       "    </tr>\n",
       "    <tr>\n",
       "      <th>YMF</th>\n",
       "      <td>35.0</td>\n",
       "      <td>25.0</td>\n",
       "      <td>15.0</td>\n",
       "      <td>1</td>\n",
       "    </tr>\n",
       "    <tr>\n",
       "      <th>YMG</th>\n",
       "      <td>44.7</td>\n",
       "      <td>30.0</td>\n",
       "      <td>20.0</td>\n",
       "      <td>1</td>\n",
       "    </tr>\n",
       "  </tbody>\n",
       "</table>\n",
       "</div>"
      ],
      "text/plain": [
       "            LENGTH  WIDTH  HEIGHT  DISPLAYRFPACK\n",
       "CARTONTYPE                                      \n",
       "YMA           24.7   15.0    10.0              1\n",
       "YMC           30.0   20.0    15.0              1\n",
       "YME           30.0   30.0    44.5              1\n",
       "YMF           35.0   25.0    15.0              1\n",
       "YMG           44.7   30.0    20.0              1"
      ]
     },
     "metadata": {},
     "output_type": "display_data"
    },
    {
     "name": "stdout",
     "output_type": "stream",
     "text": [
      "\n",
      "Describe\n"
     ]
    },
    {
     "data": {
      "text/html": [
       "<div>\n",
       "<style scoped>\n",
       "    .dataframe tbody tr th:only-of-type {\n",
       "        vertical-align: middle;\n",
       "    }\n",
       "\n",
       "    .dataframe tbody tr th {\n",
       "        vertical-align: top;\n",
       "    }\n",
       "\n",
       "    .dataframe thead th {\n",
       "        text-align: right;\n",
       "    }\n",
       "</style>\n",
       "<table border=\"1\" class=\"dataframe\">\n",
       "  <thead>\n",
       "    <tr style=\"text-align: right;\">\n",
       "      <th></th>\n",
       "      <th>LENGTH</th>\n",
       "      <th>WIDTH</th>\n",
       "      <th>HEIGHT</th>\n",
       "      <th>DISPLAYRFPACK</th>\n",
       "    </tr>\n",
       "  </thead>\n",
       "  <tbody>\n",
       "    <tr>\n",
       "      <th>count</th>\n",
       "      <td>29.000000</td>\n",
       "      <td>29.000000</td>\n",
       "      <td>29.000000</td>\n",
       "      <td>29.000000</td>\n",
       "    </tr>\n",
       "    <tr>\n",
       "      <th>mean</th>\n",
       "      <td>39.824138</td>\n",
       "      <td>30.362069</td>\n",
       "      <td>27.466552</td>\n",
       "      <td>0.620690</td>\n",
       "    </tr>\n",
       "    <tr>\n",
       "      <th>std</th>\n",
       "      <td>22.712122</td>\n",
       "      <td>18.273173</td>\n",
       "      <td>26.453974</td>\n",
       "      <td>0.493804</td>\n",
       "    </tr>\n",
       "    <tr>\n",
       "      <th>min</th>\n",
       "      <td>0.000000</td>\n",
       "      <td>0.000000</td>\n",
       "      <td>0.000000</td>\n",
       "      <td>0.000000</td>\n",
       "    </tr>\n",
       "    <tr>\n",
       "      <th>25%</th>\n",
       "      <td>27.000000</td>\n",
       "      <td>20.000000</td>\n",
       "      <td>5.000000</td>\n",
       "      <td>0.000000</td>\n",
       "    </tr>\n",
       "    <tr>\n",
       "      <th>50%</th>\n",
       "      <td>40.000000</td>\n",
       "      <td>29.000000</td>\n",
       "      <td>15.000000</td>\n",
       "      <td>1.000000</td>\n",
       "    </tr>\n",
       "    <tr>\n",
       "      <th>75%</th>\n",
       "      <td>52.000000</td>\n",
       "      <td>40.000000</td>\n",
       "      <td>45.000000</td>\n",
       "      <td>1.000000</td>\n",
       "    </tr>\n",
       "    <tr>\n",
       "      <th>max</th>\n",
       "      <td>89.500000</td>\n",
       "      <td>63.000000</td>\n",
       "      <td>86.000000</td>\n",
       "      <td>1.000000</td>\n",
       "    </tr>\n",
       "  </tbody>\n",
       "</table>\n",
       "</div>"
      ],
      "text/plain": [
       "          LENGTH      WIDTH     HEIGHT  DISPLAYRFPACK\n",
       "count  29.000000  29.000000  29.000000      29.000000\n",
       "mean   39.824138  30.362069  27.466552       0.620690\n",
       "std    22.712122  18.273173  26.453974       0.493804\n",
       "min     0.000000   0.000000   0.000000       0.000000\n",
       "25%    27.000000  20.000000   5.000000       0.000000\n",
       "50%    40.000000  29.000000  15.000000       1.000000\n",
       "75%    52.000000  40.000000  45.000000       1.000000\n",
       "max    89.500000  63.000000  86.000000       1.000000"
      ]
     },
     "metadata": {},
     "output_type": "display_data"
    },
    {
     "name": "stdout",
     "output_type": "stream",
     "text": [
      "\n",
      "<class 'pandas.core.frame.DataFrame'>\n",
      "Index: 29 entries, YMA to MYE\n",
      "Data columns (total 4 columns):\n",
      " #   Column         Non-Null Count  Dtype  \n",
      "---  ------         --------------  -----  \n",
      " 0   LENGTH         29 non-null     float64\n",
      " 1   WIDTH          29 non-null     float64\n",
      " 2   HEIGHT         29 non-null     float64\n",
      " 3   DISPLAYRFPACK  29 non-null     int64  \n",
      "dtypes: float64(3), int64(1)\n",
      "memory usage: 1.1+ KB\n"
     ]
    },
    {
     "data": {
      "text/plain": [
       "None"
      ]
     },
     "metadata": {},
     "output_type": "display_data"
    },
    {
     "name": "stdout",
     "output_type": "stream",
     "text": [
      "Всего пропущенных значений % 0    0.0\n",
      "dtype: float64\n"
     ]
    }
   ],
   "source": [
    "# выведем отчет по четвертому датасету\n",
    "mini_report(carton)"
   ]
  },
  {
   "cell_type": "markdown",
   "id": "9fcaf2e3",
   "metadata": {},
   "source": [
    "В таблице carton нет пропущенных значений. Необходимо перевести названия столбцов в нижний регистр. Кроме того, удобнее будет убрать из индекса CARTONTYPE и поместить значения в одноименный столбец."
   ]
  },
  {
   "cell_type": "code",
   "execution_count": 15,
   "id": "f6ef294e",
   "metadata": {},
   "outputs": [
    {
     "name": "stdout",
     "output_type": "stream",
     "text": [
      "Head\n"
     ]
    },
    {
     "data": {
      "text/html": [
       "<div>\n",
       "<style scoped>\n",
       "    .dataframe tbody tr th:only-of-type {\n",
       "        vertical-align: middle;\n",
       "    }\n",
       "\n",
       "    .dataframe tbody tr th {\n",
       "        vertical-align: top;\n",
       "    }\n",
       "\n",
       "    .dataframe thead th {\n",
       "        text-align: right;\n",
       "    }\n",
       "</style>\n",
       "<table border=\"1\" class=\"dataframe\">\n",
       "  <thead>\n",
       "    <tr style=\"text-align: right;\">\n",
       "      <th></th>\n",
       "      <th>sku</th>\n",
       "      <th>a</th>\n",
       "      <th>b</th>\n",
       "      <th>c</th>\n",
       "    </tr>\n",
       "  </thead>\n",
       "  <tbody>\n",
       "    <tr>\n",
       "      <th>0</th>\n",
       "      <td>8ba57dcdba9a58b0c4edd180bef6afc9</td>\n",
       "      <td>11.0</td>\n",
       "      <td>31.0</td>\n",
       "      <td>28.0</td>\n",
       "    </tr>\n",
       "    <tr>\n",
       "      <th>1</th>\n",
       "      <td>d9af6ce6f9e303f4b1a8cb47cde21975</td>\n",
       "      <td>29.0</td>\n",
       "      <td>14.0</td>\n",
       "      <td>40.0</td>\n",
       "    </tr>\n",
       "    <tr>\n",
       "      <th>2</th>\n",
       "      <td>8b91fd242bde88f0891380506d9c3caa</td>\n",
       "      <td>12.0</td>\n",
       "      <td>13.0</td>\n",
       "      <td>35.0</td>\n",
       "    </tr>\n",
       "    <tr>\n",
       "      <th>3</th>\n",
       "      <td>e8af308a7659e34194770d1e3a48e144</td>\n",
       "      <td>3.0</td>\n",
       "      <td>13.0</td>\n",
       "      <td>8.0</td>\n",
       "    </tr>\n",
       "    <tr>\n",
       "      <th>4</th>\n",
       "      <td>dc0e2542e122731217289b8e6d3bd3f8</td>\n",
       "      <td>96.0</td>\n",
       "      <td>18.0</td>\n",
       "      <td>56.0</td>\n",
       "    </tr>\n",
       "  </tbody>\n",
       "</table>\n",
       "</div>"
      ],
      "text/plain": [
       "                                sku     a     b     c\n",
       "0  8ba57dcdba9a58b0c4edd180bef6afc9  11.0  31.0  28.0\n",
       "1  d9af6ce6f9e303f4b1a8cb47cde21975  29.0  14.0  40.0\n",
       "2  8b91fd242bde88f0891380506d9c3caa  12.0  13.0  35.0\n",
       "3  e8af308a7659e34194770d1e3a48e144   3.0  13.0   8.0\n",
       "4  dc0e2542e122731217289b8e6d3bd3f8  96.0  18.0  56.0"
      ]
     },
     "metadata": {},
     "output_type": "display_data"
    },
    {
     "name": "stdout",
     "output_type": "stream",
     "text": [
      "\n",
      "Describe\n"
     ]
    },
    {
     "data": {
      "text/html": [
       "<div>\n",
       "<style scoped>\n",
       "    .dataframe tbody tr th:only-of-type {\n",
       "        vertical-align: middle;\n",
       "    }\n",
       "\n",
       "    .dataframe tbody tr th {\n",
       "        vertical-align: top;\n",
       "    }\n",
       "\n",
       "    .dataframe thead th {\n",
       "        text-align: right;\n",
       "    }\n",
       "</style>\n",
       "<table border=\"1\" class=\"dataframe\">\n",
       "  <thead>\n",
       "    <tr style=\"text-align: right;\">\n",
       "      <th></th>\n",
       "      <th>a</th>\n",
       "      <th>b</th>\n",
       "      <th>c</th>\n",
       "    </tr>\n",
       "  </thead>\n",
       "  <tbody>\n",
       "    <tr>\n",
       "      <th>count</th>\n",
       "      <td>6.385961e+06</td>\n",
       "      <td>6.385961e+06</td>\n",
       "      <td>6.385961e+06</td>\n",
       "    </tr>\n",
       "    <tr>\n",
       "      <th>mean</th>\n",
       "      <td>2.108468e+01</td>\n",
       "      <td>1.203353e+01</td>\n",
       "      <td>1.782524e+01</td>\n",
       "    </tr>\n",
       "    <tr>\n",
       "      <th>std</th>\n",
       "      <td>1.890676e+01</td>\n",
       "      <td>1.487745e+01</td>\n",
       "      <td>1.508838e+01</td>\n",
       "    </tr>\n",
       "    <tr>\n",
       "      <th>min</th>\n",
       "      <td>0.000000e+00</td>\n",
       "      <td>0.000000e+00</td>\n",
       "      <td>0.000000e+00</td>\n",
       "    </tr>\n",
       "    <tr>\n",
       "      <th>25%</th>\n",
       "      <td>1.000000e+01</td>\n",
       "      <td>3.000000e+00</td>\n",
       "      <td>8.000000e+00</td>\n",
       "    </tr>\n",
       "    <tr>\n",
       "      <th>50%</th>\n",
       "      <td>1.800000e+01</td>\n",
       "      <td>8.000000e+00</td>\n",
       "      <td>1.500000e+01</td>\n",
       "    </tr>\n",
       "    <tr>\n",
       "      <th>75%</th>\n",
       "      <td>2.800000e+01</td>\n",
       "      <td>1.600000e+01</td>\n",
       "      <td>2.400000e+01</td>\n",
       "    </tr>\n",
       "    <tr>\n",
       "      <th>max</th>\n",
       "      <td>6.554000e+03</td>\n",
       "      <td>2.050000e+03</td>\n",
       "      <td>5.930000e+02</td>\n",
       "    </tr>\n",
       "  </tbody>\n",
       "</table>\n",
       "</div>"
      ],
      "text/plain": [
       "                  a             b             c\n",
       "count  6.385961e+06  6.385961e+06  6.385961e+06\n",
       "mean   2.108468e+01  1.203353e+01  1.782524e+01\n",
       "std    1.890676e+01  1.487745e+01  1.508838e+01\n",
       "min    0.000000e+00  0.000000e+00  0.000000e+00\n",
       "25%    1.000000e+01  3.000000e+00  8.000000e+00\n",
       "50%    1.800000e+01  8.000000e+00  1.500000e+01\n",
       "75%    2.800000e+01  1.600000e+01  2.400000e+01\n",
       "max    6.554000e+03  2.050000e+03  5.930000e+02"
      ]
     },
     "metadata": {},
     "output_type": "display_data"
    },
    {
     "name": "stdout",
     "output_type": "stream",
     "text": [
      "\n",
      "<class 'pandas.core.frame.DataFrame'>\n",
      "Index: 6385961 entries, 0 to 6385960\n",
      "Data columns (total 4 columns):\n",
      " #   Column  Dtype  \n",
      "---  ------  -----  \n",
      " 0   sku     object \n",
      " 1   a       float64\n",
      " 2   b       float64\n",
      " 3   c       float64\n",
      "dtypes: float64(3), object(1)\n",
      "memory usage: 243.6+ MB\n"
     ]
    },
    {
     "data": {
      "text/plain": [
       "None"
      ]
     },
     "metadata": {},
     "output_type": "display_data"
    },
    {
     "name": "stdout",
     "output_type": "stream",
     "text": [
      "Всего пропущенных значений % 0    0.0\n",
      "dtype: float64\n"
     ]
    }
   ],
   "source": [
    "# выведем отчет по пятому датасету\n",
    "mini_report(sku)"
   ]
  },
  {
   "cell_type": "markdown",
   "id": "36650e00",
   "metadata": {},
   "source": [
    "В таблице sku содержатся габариты товара. Предобработка не требуется."
   ]
  },
  {
   "cell_type": "code",
   "execution_count": 16,
   "id": "2745c582",
   "metadata": {},
   "outputs": [
    {
     "name": "stdout",
     "output_type": "stream",
     "text": [
      "Head\n"
     ]
    },
    {
     "data": {
      "text/html": [
       "<div>\n",
       "<style scoped>\n",
       "    .dataframe tbody tr th:only-of-type {\n",
       "        vertical-align: middle;\n",
       "    }\n",
       "\n",
       "    .dataframe tbody tr th {\n",
       "        vertical-align: top;\n",
       "    }\n",
       "\n",
       "    .dataframe thead th {\n",
       "        text-align: right;\n",
       "    }\n",
       "</style>\n",
       "<table border=\"1\" class=\"dataframe\">\n",
       "  <thead>\n",
       "    <tr style=\"text-align: right;\">\n",
       "      <th></th>\n",
       "      <th>sku</th>\n",
       "      <th>cargotype</th>\n",
       "    </tr>\n",
       "  </thead>\n",
       "  <tbody>\n",
       "    <tr>\n",
       "      <th>0</th>\n",
       "      <td>4862bf0e760a593b13f3f2fcf822e533</td>\n",
       "      <td>290</td>\n",
       "    </tr>\n",
       "    <tr>\n",
       "      <th>1</th>\n",
       "      <td>4862bf0e760a593b13f3f2fcf822e533</td>\n",
       "      <td>901</td>\n",
       "    </tr>\n",
       "    <tr>\n",
       "      <th>2</th>\n",
       "      <td>50d3c4fc66ad423b7feaadff2d682ee0</td>\n",
       "      <td>290</td>\n",
       "    </tr>\n",
       "    <tr>\n",
       "      <th>3</th>\n",
       "      <td>50d3c4fc66ad423b7feaadff2d682ee0</td>\n",
       "      <td>901</td>\n",
       "    </tr>\n",
       "    <tr>\n",
       "      <th>4</th>\n",
       "      <td>24ce9dba9f301ada55f60e25ee1498d2</td>\n",
       "      <td>290</td>\n",
       "    </tr>\n",
       "  </tbody>\n",
       "</table>\n",
       "</div>"
      ],
      "text/plain": [
       "                                sku  cargotype\n",
       "0  4862bf0e760a593b13f3f2fcf822e533        290\n",
       "1  4862bf0e760a593b13f3f2fcf822e533        901\n",
       "2  50d3c4fc66ad423b7feaadff2d682ee0        290\n",
       "3  50d3c4fc66ad423b7feaadff2d682ee0        901\n",
       "4  24ce9dba9f301ada55f60e25ee1498d2        290"
      ]
     },
     "metadata": {},
     "output_type": "display_data"
    },
    {
     "name": "stdout",
     "output_type": "stream",
     "text": [
      "\n",
      "Describe\n"
     ]
    },
    {
     "data": {
      "text/html": [
       "<div>\n",
       "<style scoped>\n",
       "    .dataframe tbody tr th:only-of-type {\n",
       "        vertical-align: middle;\n",
       "    }\n",
       "\n",
       "    .dataframe tbody tr th {\n",
       "        vertical-align: top;\n",
       "    }\n",
       "\n",
       "    .dataframe thead th {\n",
       "        text-align: right;\n",
       "    }\n",
       "</style>\n",
       "<table border=\"1\" class=\"dataframe\">\n",
       "  <thead>\n",
       "    <tr style=\"text-align: right;\">\n",
       "      <th></th>\n",
       "      <th>cargotype</th>\n",
       "    </tr>\n",
       "  </thead>\n",
       "  <tbody>\n",
       "    <tr>\n",
       "      <th>count</th>\n",
       "      <td>2.105315e+07</td>\n",
       "    </tr>\n",
       "    <tr>\n",
       "      <th>mean</th>\n",
       "      <td>5.263839e+02</td>\n",
       "    </tr>\n",
       "    <tr>\n",
       "      <th>std</th>\n",
       "      <td>2.590785e+02</td>\n",
       "    </tr>\n",
       "    <tr>\n",
       "      <th>min</th>\n",
       "      <td>0.000000e+00</td>\n",
       "    </tr>\n",
       "    <tr>\n",
       "      <th>25%</th>\n",
       "      <td>2.900000e+02</td>\n",
       "    </tr>\n",
       "    <tr>\n",
       "      <th>50%</th>\n",
       "      <td>4.410000e+02</td>\n",
       "    </tr>\n",
       "    <tr>\n",
       "      <th>75%</th>\n",
       "      <td>6.910000e+02</td>\n",
       "    </tr>\n",
       "    <tr>\n",
       "      <th>max</th>\n",
       "      <td>1.300000e+03</td>\n",
       "    </tr>\n",
       "  </tbody>\n",
       "</table>\n",
       "</div>"
      ],
      "text/plain": [
       "          cargotype\n",
       "count  2.105315e+07\n",
       "mean   5.263839e+02\n",
       "std    2.590785e+02\n",
       "min    0.000000e+00\n",
       "25%    2.900000e+02\n",
       "50%    4.410000e+02\n",
       "75%    6.910000e+02\n",
       "max    1.300000e+03"
      ]
     },
     "metadata": {},
     "output_type": "display_data"
    },
    {
     "name": "stdout",
     "output_type": "stream",
     "text": [
      "\n",
      "<class 'pandas.core.frame.DataFrame'>\n",
      "Index: 21053152 entries, 0 to 21053151\n",
      "Data columns (total 2 columns):\n",
      " #   Column     Dtype \n",
      "---  ------     ----- \n",
      " 0   sku        object\n",
      " 1   cargotype  int64 \n",
      "dtypes: int64(1), object(1)\n",
      "memory usage: 481.9+ MB\n"
     ]
    },
    {
     "data": {
      "text/plain": [
       "None"
      ]
     },
     "metadata": {},
     "output_type": "display_data"
    },
    {
     "name": "stdout",
     "output_type": "stream",
     "text": [
      "Всего пропущенных значений % 0    0.0\n",
      "dtype: float64\n"
     ]
    }
   ],
   "source": [
    "# выведем отчет по шестому датасету\n",
    "mini_report(sku_cargotypes)"
   ]
  },
  {
   "cell_type": "markdown",
   "id": "c0808722",
   "metadata": {},
   "source": [
    "Пропущенных значений в sku_cargotypes нет. Оставим таблицу без изменений."
   ]
  },
  {
   "cell_type": "markdown",
   "id": "b4af42fe",
   "metadata": {},
   "source": [
    "После первичного обзора данных можно сделать следующие выводы:\n",
    "1. Во всех исходных данных указаны корректные типы значений в столбцах;\n",
    "2. Предобработка требуется для следующих датасетов:\n",
    "   - data: удалить дублирующиеся и ненужные для обучения признаки;\n",
    "   - carton_price: заменить названия столбцов;\n",
    "   - cargotype_info: удалить пропуски;\n",
    "   - carton: преобразовать индекс, сменить регистр в названиях столбцов, удалить лишний признак. "
   ]
  },
  {
   "cell_type": "markdown",
   "id": "f66847d0",
   "metadata": {},
   "source": [
    "## Предобработка данных"
   ]
  },
  {
   "cell_type": "markdown",
   "id": "f716720d",
   "metadata": {},
   "source": [
    "Далее выполним предобработку данных и объединим датасеты для удобства дальнейшей работы."
   ]
  },
  {
   "cell_type": "code",
   "execution_count": 17,
   "id": "ac0112ac",
   "metadata": {},
   "outputs": [
    {
     "name": "stdout",
     "output_type": "stream",
     "text": [
      "<class 'pandas.core.frame.DataFrame'>\n",
      "Index: 325623 entries, 0 to 325622\n",
      "Data columns (total 11 columns):\n",
      " #   Column         Non-Null Count   Dtype  \n",
      "---  ------         --------------   -----  \n",
      " 0   whs            325623 non-null  int64  \n",
      " 1   orderkey       325623 non-null  object \n",
      " 2   box_num        325623 non-null  int64  \n",
      " 3   sel_calc_cube  325623 non-null  int64  \n",
      " 4   pack_volume    325623 non-null  int64  \n",
      " 5   rec_calc_cube  325623 non-null  int64  \n",
      " 6   goods_wght     325623 non-null  float64\n",
      " 7   sku            325623 non-null  object \n",
      " 8   who            325623 non-null  object \n",
      " 9   trackingid     325623 non-null  object \n",
      " 10  cartontype     325623 non-null  object \n",
      "dtypes: float64(1), int64(5), object(5)\n",
      "memory usage: 29.8+ MB\n"
     ]
    }
   ],
   "source": [
    "#создадим таргет\n",
    "data['cartontype'] = data['selected_carton']\n",
    "\n",
    "#удалим дублирующиеся столбцы\n",
    "data_new = data.drop(['selected_carton', 'recommended_carton', 'recommended_cartontype', 'selected_cartontype'], axis=1)\n",
    "\n",
    "#проверим результат\n",
    "data_new.info()"
   ]
  },
  {
   "cell_type": "code",
   "execution_count": 18,
   "id": "c9bee5f7",
   "metadata": {},
   "outputs": [
    {
     "name": "stdout",
     "output_type": "stream",
     "text": [
      "<class 'pandas.core.frame.DataFrame'>\n",
      "Index: 15 entries, 0 to 14\n",
      "Data columns (total 2 columns):\n",
      " #   Column      Non-Null Count  Dtype  \n",
      "---  ------      --------------  -----  \n",
      " 0   cartontype  15 non-null     object \n",
      " 1   price       15 non-null     float64\n",
      "dtypes: float64(1), object(1)\n",
      "memory usage: 360.0+ bytes\n"
     ]
    }
   ],
   "source": [
    "#заменим названия столбцов в carton_price\n",
    "carton_price.columns = ['cartontype', 'price']\n",
    "\n",
    "#проверим результат\n",
    "carton_price.info()"
   ]
  },
  {
   "cell_type": "code",
   "execution_count": 19,
   "id": "58b4857f",
   "metadata": {},
   "outputs": [
    {
     "name": "stdout",
     "output_type": "stream",
     "text": [
      "<class 'pandas.core.frame.DataFrame'>\n",
      "Index: 29 entries, YMA to MYE\n",
      "Data columns (total 5 columns):\n",
      " #   Column         Non-Null Count  Dtype  \n",
      "---  ------         --------------  -----  \n",
      " 0   length         29 non-null     float64\n",
      " 1   width          29 non-null     float64\n",
      " 2   height         29 non-null     float64\n",
      " 3   displayrfpack  29 non-null     int64  \n",
      " 4   cartontype     29 non-null     object \n",
      "dtypes: float64(3), int64(1), object(1)\n",
      "memory usage: 1.4+ KB\n"
     ]
    }
   ],
   "source": [
    "#вынесем индексы в отдельный столбец\n",
    "carton['cartontype'] = carton.index\n",
    "\n",
    "#заменим регистр в названиях столбцов\n",
    "carton.columns = map(str.lower, carton.columns)\n",
    "\n",
    "#проверим результат\n",
    "carton.info()"
   ]
  },
  {
   "cell_type": "code",
   "execution_count": 20,
   "id": "1fb451dd",
   "metadata": {},
   "outputs": [
    {
     "name": "stdout",
     "output_type": "stream",
     "text": [
      "<class 'pandas.core.frame.DataFrame'>\n",
      "Index: 96 entries, 0 to 97\n",
      "Data columns (total 2 columns):\n",
      " #   Column       Non-Null Count  Dtype \n",
      "---  ------       --------------  ----- \n",
      " 0   cargotype    96 non-null     int32 \n",
      " 1   description  96 non-null     object\n",
      "dtypes: int32(1), object(1)\n",
      "memory usage: 1.9+ KB\n"
     ]
    }
   ],
   "source": [
    "# удалим два пропущенных значения\n",
    "cargotype_info = cargotype_info.dropna()\n",
    "\n",
    "cargotype_info['cargotype'] = cargotype_info['cargotype'].astype(int)\n",
    "\n",
    "#проверим результат\n",
    "cargotype_info.info()"
   ]
  },
  {
   "cell_type": "code",
   "execution_count": 21,
   "id": "86466e8d",
   "metadata": {},
   "outputs": [
    {
     "name": "stdout",
     "output_type": "stream",
     "text": [
      "<class 'pandas.core.frame.DataFrame'>\n",
      "RangeIndex: 29 entries, 0 to 28\n",
      "Data columns (total 6 columns):\n",
      " #   Column         Non-Null Count  Dtype  \n",
      "---  ------         --------------  -----  \n",
      " 0   length         29 non-null     float64\n",
      " 1   width          29 non-null     float64\n",
      " 2   height         29 non-null     float64\n",
      " 3   displayrfpack  29 non-null     int64  \n",
      " 4   cartontype     29 non-null     object \n",
      " 5   price          15 non-null     float64\n",
      "dtypes: float64(4), int64(1), object(1)\n",
      "memory usage: 1.5+ KB\n"
     ]
    }
   ],
   "source": [
    "#создадим дополнительную таблицу с информацией об упаковке\n",
    "cartontype_info = pd.merge(carton, carton_price, how='left', on='cartontype')\n",
    "\n",
    "# проверим результат\n",
    "cartontype_info.info()"
   ]
  },
  {
   "cell_type": "code",
   "execution_count": 22,
   "id": "55ec3d50",
   "metadata": {},
   "outputs": [],
   "source": [
    "#оставим только типы упаковки, которые есть на складе\n",
    "cartontype_info = cartontype_info[cartontype_info['displayrfpack'] == 1]"
   ]
  },
  {
   "cell_type": "markdown",
   "id": "a0893321",
   "metadata": {},
   "source": [
    "Заполним пропуски в столбце price 0. Для типов упаковки NONPACK и STRETCH цена и правда будет 0, предположим, что остальные тоже достаются бесплатно."
   ]
  },
  {
   "cell_type": "code",
   "execution_count": 23,
   "id": "4209de16",
   "metadata": {},
   "outputs": [],
   "source": [
    "#заполним пропуски 0\n",
    "cartontype_info = cartontype_info.fillna(0)"
   ]
  },
  {
   "cell_type": "code",
   "execution_count": 24,
   "id": "6e593521",
   "metadata": {},
   "outputs": [
    {
     "data": {
      "text/html": [
       "<div>\n",
       "<style scoped>\n",
       "    .dataframe tbody tr th:only-of-type {\n",
       "        vertical-align: middle;\n",
       "    }\n",
       "\n",
       "    .dataframe tbody tr th {\n",
       "        vertical-align: top;\n",
       "    }\n",
       "\n",
       "    .dataframe thead th {\n",
       "        text-align: right;\n",
       "    }\n",
       "</style>\n",
       "<table border=\"1\" class=\"dataframe\">\n",
       "  <thead>\n",
       "    <tr style=\"text-align: right;\">\n",
       "      <th></th>\n",
       "      <th>whs</th>\n",
       "      <th>orderkey</th>\n",
       "      <th>box_num</th>\n",
       "      <th>sel_calc_cube</th>\n",
       "      <th>pack_volume</th>\n",
       "      <th>rec_calc_cube</th>\n",
       "      <th>goods_wght</th>\n",
       "      <th>sku</th>\n",
       "      <th>who</th>\n",
       "      <th>trackingid</th>\n",
       "      <th>cartontype</th>\n",
       "    </tr>\n",
       "  </thead>\n",
       "  <tbody>\n",
       "    <tr>\n",
       "      <th>0</th>\n",
       "      <td>0</td>\n",
       "      <td>d48f3211c1ffccdc374f23139a9ab668</td>\n",
       "      <td>1</td>\n",
       "      <td>0</td>\n",
       "      <td>2046</td>\n",
       "      <td>108000</td>\n",
       "      <td>0.100</td>\n",
       "      <td>af49bf330e2cf16e44f0be1bdfe337bd</td>\n",
       "      <td>b7325da1af89a46059164618eb03ae38</td>\n",
       "      <td>6c304d5c2815ccd2ba5046c101294c24</td>\n",
       "      <td>NONPACK</td>\n",
       "    </tr>\n",
       "    <tr>\n",
       "      <th>1</th>\n",
       "      <td>0</td>\n",
       "      <td>d48f3211c1ffccdc374f23139a9ab668</td>\n",
       "      <td>1</td>\n",
       "      <td>0</td>\n",
       "      <td>2046</td>\n",
       "      <td>108000</td>\n",
       "      <td>0.100</td>\n",
       "      <td>af49bf330e2cf16e44f0be1bdfe337bd</td>\n",
       "      <td>b7325da1af89a46059164618eb03ae38</td>\n",
       "      <td>6c304d5c2815ccd2ba5046c101294c24</td>\n",
       "      <td>NONPACK</td>\n",
       "    </tr>\n",
       "    <tr>\n",
       "      <th>2</th>\n",
       "      <td>0</td>\n",
       "      <td>d48f3211c1ffccdc374f23139a9ab668</td>\n",
       "      <td>1</td>\n",
       "      <td>0</td>\n",
       "      <td>2046</td>\n",
       "      <td>108000</td>\n",
       "      <td>0.100</td>\n",
       "      <td>af49bf330e2cf16e44f0be1bdfe337bd</td>\n",
       "      <td>b7325da1af89a46059164618eb03ae38</td>\n",
       "      <td>6c304d5c2815ccd2ba5046c101294c24</td>\n",
       "      <td>NONPACK</td>\n",
       "    </tr>\n",
       "    <tr>\n",
       "      <th>3</th>\n",
       "      <td>0</td>\n",
       "      <td>d48f3211c1ffccdc374f23139a9ab668</td>\n",
       "      <td>1</td>\n",
       "      <td>0</td>\n",
       "      <td>2046</td>\n",
       "      <td>108000</td>\n",
       "      <td>0.100</td>\n",
       "      <td>af49bf330e2cf16e44f0be1bdfe337bd</td>\n",
       "      <td>b7325da1af89a46059164618eb03ae38</td>\n",
       "      <td>6c304d5c2815ccd2ba5046c101294c24</td>\n",
       "      <td>NONPACK</td>\n",
       "    </tr>\n",
       "    <tr>\n",
       "      <th>4</th>\n",
       "      <td>0</td>\n",
       "      <td>d48f3211c1ffccdc374f23139a9ab668</td>\n",
       "      <td>1</td>\n",
       "      <td>0</td>\n",
       "      <td>2046</td>\n",
       "      <td>108000</td>\n",
       "      <td>0.100</td>\n",
       "      <td>af49bf330e2cf16e44f0be1bdfe337bd</td>\n",
       "      <td>b7325da1af89a46059164618eb03ae38</td>\n",
       "      <td>6c304d5c2815ccd2ba5046c101294c24</td>\n",
       "      <td>NONPACK</td>\n",
       "    </tr>\n",
       "    <tr>\n",
       "      <th>...</th>\n",
       "      <td>...</td>\n",
       "      <td>...</td>\n",
       "      <td>...</td>\n",
       "      <td>...</td>\n",
       "      <td>...</td>\n",
       "      <td>...</td>\n",
       "      <td>...</td>\n",
       "      <td>...</td>\n",
       "      <td>...</td>\n",
       "      <td>...</td>\n",
       "      <td>...</td>\n",
       "    </tr>\n",
       "    <tr>\n",
       "      <th>325618</th>\n",
       "      <td>7</td>\n",
       "      <td>0e4f34db53e37d6bf171c2e055e2b4e0</td>\n",
       "      <td>1</td>\n",
       "      <td>4560</td>\n",
       "      <td>2080</td>\n",
       "      <td>8525</td>\n",
       "      <td>0.100</td>\n",
       "      <td>86dcc1a44eb2939fea4d2dd3604e1f9e</td>\n",
       "      <td>be7c9ad8b9430d358e6c276b94e2beff</td>\n",
       "      <td>f94f078101752133502202383bc87743</td>\n",
       "      <td>MYC</td>\n",
       "    </tr>\n",
       "    <tr>\n",
       "      <th>325619</th>\n",
       "      <td>7</td>\n",
       "      <td>0e4f34db53e37d6bf171c2e055e2b4e0</td>\n",
       "      <td>1</td>\n",
       "      <td>4560</td>\n",
       "      <td>2080</td>\n",
       "      <td>8525</td>\n",
       "      <td>0.100</td>\n",
       "      <td>86dcc1a44eb2939fea4d2dd3604e1f9e</td>\n",
       "      <td>be7c9ad8b9430d358e6c276b94e2beff</td>\n",
       "      <td>f94f078101752133502202383bc87743</td>\n",
       "      <td>MYC</td>\n",
       "    </tr>\n",
       "    <tr>\n",
       "      <th>325620</th>\n",
       "      <td>7</td>\n",
       "      <td>e71d2e750ce9a7a39c273c634be1665d</td>\n",
       "      <td>1</td>\n",
       "      <td>8525</td>\n",
       "      <td>3523</td>\n",
       "      <td>8525</td>\n",
       "      <td>0.284</td>\n",
       "      <td>9db21acf9e6c1a66493c246c1461f989</td>\n",
       "      <td>be7c9ad8b9430d358e6c276b94e2beff</td>\n",
       "      <td>58054d533ef06746ffd8cf99fad4a8cb</td>\n",
       "      <td>YMC</td>\n",
       "    </tr>\n",
       "    <tr>\n",
       "      <th>325621</th>\n",
       "      <td>7</td>\n",
       "      <td>2e2a642f611b5a6f2c404ab945fbc2a3</td>\n",
       "      <td>1</td>\n",
       "      <td>2816</td>\n",
       "      <td>552</td>\n",
       "      <td>2592</td>\n",
       "      <td>0.230</td>\n",
       "      <td>4aedb72c5662562524f6119918c7179b</td>\n",
       "      <td>be7c9ad8b9430d358e6c276b94e2beff</td>\n",
       "      <td>1666b5c878be124f05fb9a1d95dd8a68</td>\n",
       "      <td>MYB</td>\n",
       "    </tr>\n",
       "    <tr>\n",
       "      <th>325622</th>\n",
       "      <td>7</td>\n",
       "      <td>be54e183db5d75147ffcb4582c0e699b</td>\n",
       "      <td>1</td>\n",
       "      <td>0</td>\n",
       "      <td>38130</td>\n",
       "      <td>0</td>\n",
       "      <td>1.200</td>\n",
       "      <td>c674cb7255f1417a92e62f50b85aad5a</td>\n",
       "      <td>eeafb158c529eaf1aa9b8f2068a82914</td>\n",
       "      <td>16b2ecff7b2d86ada75995e8d5dd0152</td>\n",
       "      <td>NONPACK</td>\n",
       "    </tr>\n",
       "  </tbody>\n",
       "</table>\n",
       "<p>314830 rows × 11 columns</p>\n",
       "</div>"
      ],
      "text/plain": [
       "        whs                          orderkey  box_num  sel_calc_cube  \\\n",
       "0         0  d48f3211c1ffccdc374f23139a9ab668        1              0   \n",
       "1         0  d48f3211c1ffccdc374f23139a9ab668        1              0   \n",
       "2         0  d48f3211c1ffccdc374f23139a9ab668        1              0   \n",
       "3         0  d48f3211c1ffccdc374f23139a9ab668        1              0   \n",
       "4         0  d48f3211c1ffccdc374f23139a9ab668        1              0   \n",
       "...     ...                               ...      ...            ...   \n",
       "325618    7  0e4f34db53e37d6bf171c2e055e2b4e0        1           4560   \n",
       "325619    7  0e4f34db53e37d6bf171c2e055e2b4e0        1           4560   \n",
       "325620    7  e71d2e750ce9a7a39c273c634be1665d        1           8525   \n",
       "325621    7  2e2a642f611b5a6f2c404ab945fbc2a3        1           2816   \n",
       "325622    7  be54e183db5d75147ffcb4582c0e699b        1              0   \n",
       "\n",
       "        pack_volume  rec_calc_cube  goods_wght  \\\n",
       "0              2046         108000       0.100   \n",
       "1              2046         108000       0.100   \n",
       "2              2046         108000       0.100   \n",
       "3              2046         108000       0.100   \n",
       "4              2046         108000       0.100   \n",
       "...             ...            ...         ...   \n",
       "325618         2080           8525       0.100   \n",
       "325619         2080           8525       0.100   \n",
       "325620         3523           8525       0.284   \n",
       "325621          552           2592       0.230   \n",
       "325622        38130              0       1.200   \n",
       "\n",
       "                                     sku                               who  \\\n",
       "0       af49bf330e2cf16e44f0be1bdfe337bd  b7325da1af89a46059164618eb03ae38   \n",
       "1       af49bf330e2cf16e44f0be1bdfe337bd  b7325da1af89a46059164618eb03ae38   \n",
       "2       af49bf330e2cf16e44f0be1bdfe337bd  b7325da1af89a46059164618eb03ae38   \n",
       "3       af49bf330e2cf16e44f0be1bdfe337bd  b7325da1af89a46059164618eb03ae38   \n",
       "4       af49bf330e2cf16e44f0be1bdfe337bd  b7325da1af89a46059164618eb03ae38   \n",
       "...                                  ...                               ...   \n",
       "325618  86dcc1a44eb2939fea4d2dd3604e1f9e  be7c9ad8b9430d358e6c276b94e2beff   \n",
       "325619  86dcc1a44eb2939fea4d2dd3604e1f9e  be7c9ad8b9430d358e6c276b94e2beff   \n",
       "325620  9db21acf9e6c1a66493c246c1461f989  be7c9ad8b9430d358e6c276b94e2beff   \n",
       "325621  4aedb72c5662562524f6119918c7179b  be7c9ad8b9430d358e6c276b94e2beff   \n",
       "325622  c674cb7255f1417a92e62f50b85aad5a  eeafb158c529eaf1aa9b8f2068a82914   \n",
       "\n",
       "                              trackingid cartontype  \n",
       "0       6c304d5c2815ccd2ba5046c101294c24    NONPACK  \n",
       "1       6c304d5c2815ccd2ba5046c101294c24    NONPACK  \n",
       "2       6c304d5c2815ccd2ba5046c101294c24    NONPACK  \n",
       "3       6c304d5c2815ccd2ba5046c101294c24    NONPACK  \n",
       "4       6c304d5c2815ccd2ba5046c101294c24    NONPACK  \n",
       "...                                  ...        ...  \n",
       "325618  f94f078101752133502202383bc87743        MYC  \n",
       "325619  f94f078101752133502202383bc87743        MYC  \n",
       "325620  58054d533ef06746ffd8cf99fad4a8cb        YMC  \n",
       "325621  1666b5c878be124f05fb9a1d95dd8a68        MYB  \n",
       "325622  16b2ecff7b2d86ada75995e8d5dd0152    NONPACK  \n",
       "\n",
       "[314830 rows x 11 columns]"
      ]
     },
     "execution_count": 24,
     "metadata": {},
     "output_type": "execute_result"
    }
   ],
   "source": [
    "#посмотрим, все ли товары из data есть в базе sku\n",
    "data_new.loc[data_new['sku'].isin(sku['sku'])]"
   ]
  },
  {
   "cell_type": "code",
   "execution_count": 25,
   "id": "66bc98be",
   "metadata": {},
   "outputs": [
    {
     "data": {
      "image/png": "[encoded data removed]",
      "text/plain": [
       "<Figure size 648x432 with 1 Axes>"
      ]
     },
     "metadata": {
      "needs_background": "light"
     },
     "output_type": "display_data"
    }
   ],
   "source": [
    "#посмотрим на частоту значений для box_num\n",
    "data_new['box_num'].hist(bins=200, figsize=(9,6));\n",
    "\n",
    "plt.xlabel('Количество коробок')\n",
    "plt.ylabel('Количество заказов')\n",
    "plt.title('Частота значений box_num');"
   ]
  },
  {
   "cell_type": "code",
   "execution_count": 26,
   "id": "9b66e79c",
   "metadata": {},
   "outputs": [
    {
     "data": {
      "image/png": "[encoded data removed]",
      "text/plain": [
       "<Figure size 1008x288 with 1 Axes>"
      ]
     },
     "metadata": {
      "needs_background": "light"
     },
     "output_type": "display_data"
    }
   ],
   "source": [
    "#выведем диаграмму boxplot\n",
    "data_new['pack_volume'].plot(kind='box', vert=False, figsize=(14,4))\n",
    "\n",
    "plt.xlabel('Объем коробок')\n",
    "plt.title('Ящик с усами для pack_volume');"
   ]
  },
  {
   "cell_type": "code",
   "execution_count": 27,
   "id": "921929d6",
   "metadata": {},
   "outputs": [
    {
     "data": {
      "image/png": "[encoded data removed]",
      "text/plain": [
       "<Figure size 1008x288 with 1 Axes>"
      ]
     },
     "metadata": {
      "needs_background": "light"
     },
     "output_type": "display_data"
    }
   ],
   "source": [
    "#выведем диаграмму boxplot\n",
    "data_new['goods_wght'].plot(kind='box', vert=False, figsize=(14,4))\n",
    "\n",
    "plt.xlabel('Вес товара')\n",
    "plt.title('Ящик с усами для goods_wght');"
   ]
  },
  {
   "cell_type": "markdown",
   "id": "d5f231f5",
   "metadata": {},
   "source": [
    "Очевидно, что для признаков box_num, pack_volume и goods_wght характерны значительные выбросы. В данных встречаются заказы с очень большим весом, объемом коробки и количеством коробок. Учтем наличие выбросов при обучении модели."
   ]
  },
  {
   "cell_type": "markdown",
   "id": "759eef84",
   "metadata": {},
   "source": [
    "Далее приступим к объединению датасетов."
   ]
  },
  {
   "cell_type": "code",
   "execution_count": 28,
   "id": "55856643-10f9-488e-96c6-fe9966d021c0",
   "metadata": {},
   "outputs": [],
   "source": [
    "#удалим лишние столбцы\n",
    "df_one = data.drop(['whs',\n",
    "                'who',\n",
    "                'recommended_carton',\n",
    "                'recommended_cartontype',\n",
    "                'selected_cartontype',\n",
    "                'trackingid',\n",
    "                'rec_calc_cube',\n",
    "                'sel_calc_cube'], axis=1)"
   ]
  },
  {
   "cell_type": "markdown",
   "id": "dcb8dd83",
   "metadata": {},
   "source": [
    "В качестве таргета выступает исторически выбранная коробка, значит необходимо отталкиваться именно от того, что положили в одну коробку, а не в заказ. Поэтому создадим уникальный признак номер заказа + номер коробки и избавимся от от них в отдельности."
   ]
  },
  {
   "cell_type": "code",
   "execution_count": 29,
   "id": "ae51af5c-cc0c-441e-90de-b17ced803616",
   "metadata": {
    "tags": []
   },
   "outputs": [],
   "source": [
    "#создадим новый признак\n",
    "df_one['box_id'] = df_one['orderkey'] + df_one['box_num'].astype(str)"
   ]
  },
  {
   "cell_type": "code",
   "execution_count": 30,
   "id": "d9b64bb4-7477-4e2c-891a-ed9e678b876e",
   "metadata": {},
   "outputs": [],
   "source": [
    "#удалим лишнее\n",
    "df_one = df_one.drop(['box_num', 'orderkey', 'pack_volume'], axis=1)"
   ]
  },
  {
   "cell_type": "markdown",
   "id": "e64e297f",
   "metadata": {},
   "source": [
    "Далее создадим отдельный датасет с наименованием выбранной коробки для заказа. Это будет таргет."
   ]
  },
  {
   "cell_type": "code",
   "execution_count": 31,
   "id": "95aee04a",
   "metadata": {},
   "outputs": [
    {
     "data": {
      "text/html": [
       "<div>\n",
       "<style scoped>\n",
       "    .dataframe tbody tr th:only-of-type {\n",
       "        vertical-align: middle;\n",
       "    }\n",
       "\n",
       "    .dataframe tbody tr th {\n",
       "        vertical-align: top;\n",
       "    }\n",
       "\n",
       "    .dataframe thead th {\n",
       "        text-align: right;\n",
       "    }\n",
       "</style>\n",
       "<table border=\"1\" class=\"dataframe\">\n",
       "  <thead>\n",
       "    <tr style=\"text-align: right;\">\n",
       "      <th></th>\n",
       "      <th>selected_carton</th>\n",
       "      <th>box_id</th>\n",
       "    </tr>\n",
       "  </thead>\n",
       "  <tbody>\n",
       "    <tr>\n",
       "      <th>0</th>\n",
       "      <td>NONPACK</td>\n",
       "      <td>d48f3211c1ffccdc374f23139a9ab6681</td>\n",
       "    </tr>\n",
       "    <tr>\n",
       "      <th>1</th>\n",
       "      <td>STRETCH</td>\n",
       "      <td>4b33fcc98ea1f59d6fe4eb2e0a48bb4b1</td>\n",
       "    </tr>\n",
       "    <tr>\n",
       "      <th>2</th>\n",
       "      <td>STRETCH</td>\n",
       "      <td>3e646181f6f708edd3326c1626c12d231</td>\n",
       "    </tr>\n",
       "    <tr>\n",
       "      <th>3</th>\n",
       "      <td>STRETCH</td>\n",
       "      <td>7047c16a6b7c120162ca3da0ebca43fd1</td>\n",
       "    </tr>\n",
       "    <tr>\n",
       "      <th>4</th>\n",
       "      <td>STRETCH</td>\n",
       "      <td>097917e584151c0c21f205b2c3aafa101</td>\n",
       "    </tr>\n",
       "    <tr>\n",
       "      <th>5</th>\n",
       "      <td>NONPACK</td>\n",
       "      <td>1d11d793924acefde0b7f2ad149e1b451</td>\n",
       "    </tr>\n",
       "    <tr>\n",
       "      <th>6</th>\n",
       "      <td>NONPACK</td>\n",
       "      <td>abea12f00a205457b289b2e5c0351e171</td>\n",
       "    </tr>\n",
       "    <tr>\n",
       "      <th>7</th>\n",
       "      <td>STRETCH</td>\n",
       "      <td>36c08c84db8a36ce66e3893be0efcd811</td>\n",
       "    </tr>\n",
       "    <tr>\n",
       "      <th>8</th>\n",
       "      <td>STRETCH</td>\n",
       "      <td>25ada3fea95cadbcba7b8e6e90ee8ccd1</td>\n",
       "    </tr>\n",
       "    <tr>\n",
       "      <th>9</th>\n",
       "      <td>MYC</td>\n",
       "      <td>5a5f8c06487c426283b5c587282816471</td>\n",
       "    </tr>\n",
       "  </tbody>\n",
       "</table>\n",
       "</div>"
      ],
      "text/plain": [
       "  selected_carton                             box_id\n",
       "0         NONPACK  d48f3211c1ffccdc374f23139a9ab6681\n",
       "1         STRETCH  4b33fcc98ea1f59d6fe4eb2e0a48bb4b1\n",
       "2         STRETCH  3e646181f6f708edd3326c1626c12d231\n",
       "3         STRETCH  7047c16a6b7c120162ca3da0ebca43fd1\n",
       "4         STRETCH  097917e584151c0c21f205b2c3aafa101\n",
       "5         NONPACK  1d11d793924acefde0b7f2ad149e1b451\n",
       "6         NONPACK  abea12f00a205457b289b2e5c0351e171\n",
       "7         STRETCH  36c08c84db8a36ce66e3893be0efcd811\n",
       "8         STRETCH  25ada3fea95cadbcba7b8e6e90ee8ccd1\n",
       "9             MYC  5a5f8c06487c426283b5c587282816471"
      ]
     },
     "execution_count": 31,
     "metadata": {},
     "output_type": "execute_result"
    }
   ],
   "source": [
    "#выделим ключ и таргет в отдельный датасет\n",
    "target = df_one[['selected_carton', 'box_id']]\n",
    "\n",
    "#удалим дублирующиеся номера заказа\n",
    "target = target.drop_duplicates(subset='box_id', keep=\"first\").reset_index(drop=True)\n",
    "\n",
    "#посмотрим на результат\n",
    "target.head(10)"
   ]
  },
  {
   "cell_type": "code",
   "execution_count": 32,
   "id": "160d3185-f2db-4857-9ab3-668e7200dac1",
   "metadata": {},
   "outputs": [],
   "source": [
    "#создадим вспомогательный датафрейм\n",
    "unique_sku_in_data =  df_one['sku'].drop_duplicates().reset_index(drop=True)"
   ]
  },
  {
   "cell_type": "code",
   "execution_count": 33,
   "id": "49431c01",
   "metadata": {},
   "outputs": [],
   "source": [
    "#объединим данные\n",
    "df_two = pd.merge(unique_sku_in_data, sku, how='left', on='sku')\n",
    "df_two = pd.merge(df_two, sku_cargotypes, how='left', on='sku')"
   ]
  },
  {
   "cell_type": "code",
   "execution_count": 34,
   "id": "2daace88",
   "metadata": {},
   "outputs": [],
   "source": [
    "#преименуем столбец \n",
    "df_two = df_two.rename(columns={'cargotype': 'cargotypes'})"
   ]
  },
  {
   "cell_type": "markdown",
   "id": "1bcf5ba5",
   "metadata": {},
   "source": [
    "Создадим функцию для преобразования карготипов и трансформации датафрейма."
   ]
  },
  {
   "cell_type": "code",
   "execution_count": 35,
   "id": "d4f7e250",
   "metadata": {},
   "outputs": [],
   "source": [
    "#создадим функцию для преобразования датасета\n",
    "def make_type_rows(df):\n",
    "\n",
    "    pivoted = pd.pivot_table(df.assign(val=1), values='val', index=['sku'], columns=['cargotypes'], \n",
    "                                 aggfunc=lambda x: 1, fill_value=0)\n",
    "    pivoted.columns = ['type_' + str(x) if x!='sku' else x for x in pivoted.columns]\n",
    "    #сбросим индексы\n",
    "    pivoted_def = pivoted.reset_index()\n",
    "    \n",
    "    return pivoted_def\n",
    "\n",
    "def merge_pivoted(df):\n",
    "    \n",
    "    pivoted = make_type_rows(df)\n",
    "    df = pd.merge(df, pivoted, on=['sku'])\n",
    "    df = df.drop(['cargotypes'], axis=1)\n",
    "    df = df.drop_duplicates()\n",
    "    \n",
    "    return df"
   ]
  },
  {
   "cell_type": "code",
   "execution_count": 36,
   "id": "09d671f5",
   "metadata": {},
   "outputs": [],
   "source": [
    "#создадим новый признак с объемом товара\n",
    "def feature_volume(df):\n",
    "    df['volume'] = df['a'] * df['b'] * df['c']\n",
    "    return df"
   ]
  },
  {
   "cell_type": "code",
   "execution_count": 37,
   "id": "15b322b6",
   "metadata": {},
   "outputs": [],
   "source": [
    "# создадим новые признаки используя вычисления групповых статистик\n",
    "def new_group_features(df):\n",
    "\n",
    "    def size_ratio(x, y, z):\n",
    "        return x * y * z / (x + y + z + 1e-3)\n",
    "\n",
    "    groups = {\n",
    "        'goods_wght': ['mean'],\n",
    "        'volume': ['mean', 'max', 'min'],\n",
    "        'a': ['mean', 'max', 'min'],\n",
    "        'b': ['mean', 'max', 'min'],\n",
    "        'c': ['mean', 'max', 'min'],\n",
    "    }\n",
    "\n",
    "\n",
    "    grouped = df.groupby(['box_id']).agg(groups)\n",
    "\n",
    "    grouped.columns = ['_'.join(col).strip() for col in grouped.columns.values]\n",
    "    grouped = grouped.reset_index()\n",
    "\n",
    "    grouped['size'] = df.apply(lambda row: size_ratio(row['a'], row['b'], row['c']), axis=1)\n",
    "    \n",
    "    return grouped"
   ]
  },
  {
   "cell_type": "code",
   "execution_count": 38,
   "id": "dcc686d6",
   "metadata": {},
   "outputs": [],
   "source": [
    "# создадим новые признаки \n",
    "def new_features_log(df):\n",
    "\n",
    "    def size_ratio(x, y, z):\n",
    "        return x * y * z / (x + y + z + 1e-3)\n",
    "\n",
    "    df['size'] = df.apply(lambda row: size_ratio(row['a'], row['b'], row['c']), axis=1)\n",
    "    \n",
    "    return df"
   ]
  },
  {
   "cell_type": "code",
   "execution_count": 39,
   "id": "99054de7-270e-4f35-80f9-f0144a5d099e",
   "metadata": {},
   "outputs": [],
   "source": [
    "# создадим новые признаки \n",
    "def new_features_log(df):\n",
    "\n",
    "    def size_ratio(x, y, z):\n",
    "        return x * y * z / (x + y + z + 1e-3)\n",
    "\n",
    "    df['size'] = df.apply(lambda row: size_ratio(row['a'], row['b'], row['c']), axis=1)\n",
    "    \n",
    "    return df"
   ]
  },
  {
   "cell_type": "code",
   "execution_count": 40,
   "id": "7d0efcab",
   "metadata": {},
   "outputs": [],
   "source": [
    "#создадим промежуточный датафрейм\n",
    "df_three = merge_pivoted(df_two)"
   ]
  },
  {
   "cell_type": "code",
   "execution_count": 41,
   "id": "f3e9d75e-1e7a-400d-a9dc-95b1b5ca3c17",
   "metadata": {},
   "outputs": [],
   "source": [
    "#объединим промежуточный датасет\n",
    "df_four = pd.merge(df_one, df_three, how='left', on='sku')"
   ]
  },
  {
   "cell_type": "code",
   "execution_count": 42,
   "id": "12ea50e7",
   "metadata": {},
   "outputs": [],
   "source": [
    "#применим функцию для сощдания нового столбца\n",
    "df_four = feature_volume(df_four)"
   ]
  },
  {
   "cell_type": "markdown",
   "id": "2c147911",
   "metadata": {},
   "source": [
    "Создадим счетчик количества товаров в заказе."
   ]
  },
  {
   "cell_type": "code",
   "execution_count": 43,
   "id": "5a3a01d8",
   "metadata": {},
   "outputs": [],
   "source": [
    "#создадим новый столбец где кадому sku в заказе ссотвествует 1\n",
    "df_four['count'] = 1"
   ]
  },
  {
   "cell_type": "code",
   "execution_count": 44,
   "id": "45211a00",
   "metadata": {},
   "outputs": [],
   "source": [
    "#создадим временный датасет для преобразований\n",
    "df_temp = df_four.copy()"
   ]
  },
  {
   "cell_type": "code",
   "execution_count": 45,
   "id": "84095f76",
   "metadata": {},
   "outputs": [],
   "source": [
    "#преобразуем временный датасет\n",
    "df_temp = new_group_features(df_temp)"
   ]
  },
  {
   "cell_type": "code",
   "execution_count": 46,
   "id": "6b134926",
   "metadata": {},
   "outputs": [],
   "source": [
    "#сгруппируем все sku по номеру заказа/коробки\n",
    "df_four = df_four.groupby('box_id').sum()"
   ]
  },
  {
   "cell_type": "code",
   "execution_count": 47,
   "id": "ad1937b9",
   "metadata": {},
   "outputs": [],
   "source": [
    "#перенесем номер индекс\n",
    "df_four['box_id'] = df_four.index"
   ]
  },
  {
   "cell_type": "code",
   "execution_count": 48,
   "id": "2911c44e",
   "metadata": {},
   "outputs": [],
   "source": [
    "#избавимся от мультииндекса\n",
    "df_four = df_four.reset_index(drop=True)"
   ]
  },
  {
   "cell_type": "code",
   "execution_count": 49,
   "id": "2a9b3aab",
   "metadata": {},
   "outputs": [],
   "source": [
    "#объединим финальный датасет\n",
    "df_raw = pd.merge(df_four, df_temp, how='left', on='box_id')"
   ]
  },
  {
   "cell_type": "code",
   "execution_count": 50,
   "id": "63387483",
   "metadata": {},
   "outputs": [],
   "source": [
    "#присодеиним таргет по номеру заказа\n",
    "df_raw = pd.merge(df_raw, target, how='left', on='box_id')"
   ]
  },
  {
   "cell_type": "code",
   "execution_count": 51,
   "id": "5442600a",
   "metadata": {},
   "outputs": [],
   "source": [
    "#применим функцию\n",
    "df_raw = new_features_log(df_raw)"
   ]
  },
  {
   "cell_type": "code",
   "execution_count": 52,
   "id": "234aec49",
   "metadata": {},
   "outputs": [],
   "source": [
    "#удалим лишний столбец\n",
    "df_raw = df_raw.drop('sku', axis=1)"
   ]
  },
  {
   "cell_type": "code",
   "execution_count": 53,
   "id": "d8a1dad7",
   "metadata": {},
   "outputs": [
    {
     "name": "stdout",
     "output_type": "stream",
     "text": [
      "<class 'pandas.core.frame.DataFrame'>\n",
      "RangeIndex: 170561 entries, 0 to 170560\n",
      "Columns: 104 entries, selected_carton_x to selected_carton_y\n",
      "dtypes: float64(99), int64(1), object(4)\n",
      "memory usage: 135.3+ MB\n"
     ]
    }
   ],
   "source": [
    "#посмотрим на результат\n",
    "df_raw.info()"
   ]
  },
  {
   "cell_type": "markdown",
   "id": "1c786a9d",
   "metadata": {},
   "source": [
    "Теперь датасет для обучения сгруппирован по номеру заказа/коробки и содержит агрегированные признаки по всем sku для каждого заказа."
   ]
  },
  {
   "cell_type": "code",
   "execution_count": 54,
   "id": "689ff2d6",
   "metadata": {},
   "outputs": [],
   "source": [
    "#для некоторых заказов нет данных о товарах, заполним пропущенные значения нулями\n",
    "df_raw = df_raw.fillna(0)"
   ]
  },
  {
   "cell_type": "code",
   "execution_count": 55,
   "id": "8d8eac59",
   "metadata": {},
   "outputs": [],
   "source": [
    "#удалим лишние столбцы\n",
    "df_raw = df_raw.drop(['box_id', \n",
    "                      'selected_carton_x', \n",
    "                      'cartontype'],\n",
    "                      axis=1)"
   ]
  },
  {
   "cell_type": "code",
   "execution_count": 56,
   "id": "ea6a110c",
   "metadata": {},
   "outputs": [],
   "source": [
    "#переименуем для удобства столбец\n",
    "df_raw = df_raw.rename(columns={'selected_carton_y': 'package'})"
   ]
  },
  {
   "cell_type": "code",
   "execution_count": 95,
   "id": "ff6d773b",
   "metadata": {},
   "outputs": [
    {
     "data": {
      "text/html": [
       "<div>\n",
       "<style scoped>\n",
       "    .dataframe tbody tr th:only-of-type {\n",
       "        vertical-align: middle;\n",
       "    }\n",
       "\n",
       "    .dataframe tbody tr th {\n",
       "        vertical-align: top;\n",
       "    }\n",
       "\n",
       "    .dataframe thead th {\n",
       "        text-align: right;\n",
       "    }\n",
       "</style>\n",
       "<table border=\"1\" class=\"dataframe\">\n",
       "  <thead>\n",
       "    <tr style=\"text-align: right;\">\n",
       "      <th></th>\n",
       "      <th>goods_wght</th>\n",
       "      <th>a</th>\n",
       "      <th>b</th>\n",
       "      <th>c</th>\n",
       "      <th>type_0.0</th>\n",
       "      <th>type_20.0</th>\n",
       "      <th>type_40.0</th>\n",
       "      <th>type_81.0</th>\n",
       "      <th>type_110.0</th>\n",
       "      <th>type_120.0</th>\n",
       "      <th>type_130.0</th>\n",
       "      <th>type_140.0</th>\n",
       "      <th>type_160.0</th>\n",
       "      <th>type_200.0</th>\n",
       "      <th>type_210.0</th>\n",
       "      <th>type_290.0</th>\n",
       "      <th>type_291.0</th>\n",
       "      <th>type_292.0</th>\n",
       "      <th>type_300.0</th>\n",
       "      <th>type_301.0</th>\n",
       "      <th>type_302.0</th>\n",
       "      <th>type_303.0</th>\n",
       "      <th>type_305.0</th>\n",
       "      <th>type_310.0</th>\n",
       "      <th>type_315.0</th>\n",
       "      <th>type_320.0</th>\n",
       "      <th>type_330.0</th>\n",
       "      <th>type_340.0</th>\n",
       "      <th>type_350.0</th>\n",
       "      <th>type_360.0</th>\n",
       "      <th>type_400.0</th>\n",
       "      <th>type_410.0</th>\n",
       "      <th>type_440.0</th>\n",
       "      <th>type_441.0</th>\n",
       "      <th>type_460.0</th>\n",
       "      <th>type_480.0</th>\n",
       "      <th>type_485.0</th>\n",
       "      <th>type_490.0</th>\n",
       "      <th>type_510.0</th>\n",
       "      <th>type_520.0</th>\n",
       "      <th>type_600.0</th>\n",
       "      <th>type_601.0</th>\n",
       "      <th>type_610.0</th>\n",
       "      <th>type_611.0</th>\n",
       "      <th>type_620.0</th>\n",
       "      <th>type_621.0</th>\n",
       "      <th>type_622.0</th>\n",
       "      <th>type_623.0</th>\n",
       "      <th>type_640.0</th>\n",
       "      <th>type_641.0</th>\n",
       "      <th>type_670.0</th>\n",
       "      <th>type_671.0</th>\n",
       "      <th>type_672.0</th>\n",
       "      <th>type_673.0</th>\n",
       "      <th>type_690.0</th>\n",
       "      <th>type_691.0</th>\n",
       "      <th>type_692.0</th>\n",
       "      <th>type_710.0</th>\n",
       "      <th>type_720.0</th>\n",
       "      <th>type_750.0</th>\n",
       "      <th>type_751.0</th>\n",
       "      <th>type_770.0</th>\n",
       "      <th>type_780.0</th>\n",
       "      <th>type_790.0</th>\n",
       "      <th>type_799.0</th>\n",
       "      <th>type_801.0</th>\n",
       "      <th>type_900.0</th>\n",
       "      <th>type_901.0</th>\n",
       "      <th>type_905.0</th>\n",
       "      <th>type_908.0</th>\n",
       "      <th>type_910.0</th>\n",
       "      <th>type_911.0</th>\n",
       "      <th>type_920.0</th>\n",
       "      <th>type_930.0</th>\n",
       "      <th>type_931.0</th>\n",
       "      <th>type_950.0</th>\n",
       "      <th>type_955.0</th>\n",
       "      <th>type_960.0</th>\n",
       "      <th>type_970.0</th>\n",
       "      <th>type_980.0</th>\n",
       "      <th>type_990.0</th>\n",
       "      <th>type_1010.0</th>\n",
       "      <th>type_1011.0</th>\n",
       "      <th>type_1300.0</th>\n",
       "      <th>volume</th>\n",
       "      <th>count</th>\n",
       "      <th>goods_wght_mean</th>\n",
       "      <th>volume_mean</th>\n",
       "      <th>volume_max</th>\n",
       "      <th>volume_min</th>\n",
       "      <th>a_mean</th>\n",
       "      <th>a_max</th>\n",
       "      <th>a_min</th>\n",
       "      <th>b_mean</th>\n",
       "      <th>b_max</th>\n",
       "      <th>b_min</th>\n",
       "      <th>c_mean</th>\n",
       "      <th>c_max</th>\n",
       "      <th>c_min</th>\n",
       "      <th>size</th>\n",
       "      <th>package</th>\n",
       "    </tr>\n",
       "  </thead>\n",
       "  <tbody>\n",
       "    <tr>\n",
       "      <th>137032</th>\n",
       "      <td>2.135</td>\n",
       "      <td>26.0</td>\n",
       "      <td>13.0</td>\n",
       "      <td>15.0</td>\n",
       "      <td>0.0</td>\n",
       "      <td>0.0</td>\n",
       "      <td>0.0</td>\n",
       "      <td>0.0</td>\n",
       "      <td>0.0</td>\n",
       "      <td>0.0</td>\n",
       "      <td>0.0</td>\n",
       "      <td>0.0</td>\n",
       "      <td>0.0</td>\n",
       "      <td>1.0</td>\n",
       "      <td>0.0</td>\n",
       "      <td>1.0</td>\n",
       "      <td>0.0</td>\n",
       "      <td>0.0</td>\n",
       "      <td>0.0</td>\n",
       "      <td>0.0</td>\n",
       "      <td>0.0</td>\n",
       "      <td>0.0</td>\n",
       "      <td>0.0</td>\n",
       "      <td>0.0</td>\n",
       "      <td>0.0</td>\n",
       "      <td>0.0</td>\n",
       "      <td>0.0</td>\n",
       "      <td>1.0</td>\n",
       "      <td>0.0</td>\n",
       "      <td>0.0</td>\n",
       "      <td>0.0</td>\n",
       "      <td>0.0</td>\n",
       "      <td>0.0</td>\n",
       "      <td>0.0</td>\n",
       "      <td>0.0</td>\n",
       "      <td>0.0</td>\n",
       "      <td>0.0</td>\n",
       "      <td>0.0</td>\n",
       "      <td>0.0</td>\n",
       "      <td>0.0</td>\n",
       "      <td>0.0</td>\n",
       "      <td>0.0</td>\n",
       "      <td>0.0</td>\n",
       "      <td>0.0</td>\n",
       "      <td>0.0</td>\n",
       "      <td>0.0</td>\n",
       "      <td>0.0</td>\n",
       "      <td>0.0</td>\n",
       "      <td>1.0</td>\n",
       "      <td>0.0</td>\n",
       "      <td>0.0</td>\n",
       "      <td>0.0</td>\n",
       "      <td>0.0</td>\n",
       "      <td>0.0</td>\n",
       "      <td>0.0</td>\n",
       "      <td>0.0</td>\n",
       "      <td>1.0</td>\n",
       "      <td>0.0</td>\n",
       "      <td>0.0</td>\n",
       "      <td>0.0</td>\n",
       "      <td>0.0</td>\n",
       "      <td>0.0</td>\n",
       "      <td>0.0</td>\n",
       "      <td>0.0</td>\n",
       "      <td>0.0</td>\n",
       "      <td>0.0</td>\n",
       "      <td>0.0</td>\n",
       "      <td>0.0</td>\n",
       "      <td>0.0</td>\n",
       "      <td>0.0</td>\n",
       "      <td>0.0</td>\n",
       "      <td>0.0</td>\n",
       "      <td>0.0</td>\n",
       "      <td>0.0</td>\n",
       "      <td>0.0</td>\n",
       "      <td>0.0</td>\n",
       "      <td>0.0</td>\n",
       "      <td>0.0</td>\n",
       "      <td>0.0</td>\n",
       "      <td>0.0</td>\n",
       "      <td>0.0</td>\n",
       "      <td>0.0</td>\n",
       "      <td>0.0</td>\n",
       "      <td>0.0</td>\n",
       "      <td>5070.000</td>\n",
       "      <td>1</td>\n",
       "      <td>2.135</td>\n",
       "      <td>5070.0000</td>\n",
       "      <td>5070.000</td>\n",
       "      <td>5070.000</td>\n",
       "      <td>26.00</td>\n",
       "      <td>26.0</td>\n",
       "      <td>26.0</td>\n",
       "      <td>13.00</td>\n",
       "      <td>13.0</td>\n",
       "      <td>13.0</td>\n",
       "      <td>15.00</td>\n",
       "      <td>15.0</td>\n",
       "      <td>15.0</td>\n",
       "      <td>93.887150</td>\n",
       "      <td>YMC</td>\n",
       "    </tr>\n",
       "    <tr>\n",
       "      <th>12237</th>\n",
       "      <td>0.876</td>\n",
       "      <td>15.9</td>\n",
       "      <td>30.3</td>\n",
       "      <td>14.1</td>\n",
       "      <td>0.0</td>\n",
       "      <td>0.0</td>\n",
       "      <td>0.0</td>\n",
       "      <td>0.0</td>\n",
       "      <td>0.0</td>\n",
       "      <td>0.0</td>\n",
       "      <td>0.0</td>\n",
       "      <td>0.0</td>\n",
       "      <td>0.0</td>\n",
       "      <td>0.0</td>\n",
       "      <td>0.0</td>\n",
       "      <td>2.0</td>\n",
       "      <td>0.0</td>\n",
       "      <td>0.0</td>\n",
       "      <td>0.0</td>\n",
       "      <td>0.0</td>\n",
       "      <td>0.0</td>\n",
       "      <td>0.0</td>\n",
       "      <td>0.0</td>\n",
       "      <td>0.0</td>\n",
       "      <td>0.0</td>\n",
       "      <td>2.0</td>\n",
       "      <td>0.0</td>\n",
       "      <td>2.0</td>\n",
       "      <td>0.0</td>\n",
       "      <td>0.0</td>\n",
       "      <td>0.0</td>\n",
       "      <td>2.0</td>\n",
       "      <td>0.0</td>\n",
       "      <td>0.0</td>\n",
       "      <td>0.0</td>\n",
       "      <td>0.0</td>\n",
       "      <td>0.0</td>\n",
       "      <td>0.0</td>\n",
       "      <td>0.0</td>\n",
       "      <td>0.0</td>\n",
       "      <td>0.0</td>\n",
       "      <td>0.0</td>\n",
       "      <td>0.0</td>\n",
       "      <td>0.0</td>\n",
       "      <td>0.0</td>\n",
       "      <td>0.0</td>\n",
       "      <td>0.0</td>\n",
       "      <td>0.0</td>\n",
       "      <td>0.0</td>\n",
       "      <td>0.0</td>\n",
       "      <td>0.0</td>\n",
       "      <td>0.0</td>\n",
       "      <td>0.0</td>\n",
       "      <td>0.0</td>\n",
       "      <td>0.0</td>\n",
       "      <td>0.0</td>\n",
       "      <td>0.0</td>\n",
       "      <td>0.0</td>\n",
       "      <td>0.0</td>\n",
       "      <td>2.0</td>\n",
       "      <td>0.0</td>\n",
       "      <td>0.0</td>\n",
       "      <td>2.0</td>\n",
       "      <td>0.0</td>\n",
       "      <td>0.0</td>\n",
       "      <td>0.0</td>\n",
       "      <td>0.0</td>\n",
       "      <td>0.0</td>\n",
       "      <td>0.0</td>\n",
       "      <td>0.0</td>\n",
       "      <td>0.0</td>\n",
       "      <td>0.0</td>\n",
       "      <td>0.0</td>\n",
       "      <td>0.0</td>\n",
       "      <td>0.0</td>\n",
       "      <td>0.0</td>\n",
       "      <td>0.0</td>\n",
       "      <td>0.0</td>\n",
       "      <td>0.0</td>\n",
       "      <td>0.0</td>\n",
       "      <td>0.0</td>\n",
       "      <td>0.0</td>\n",
       "      <td>0.0</td>\n",
       "      <td>0.0</td>\n",
       "      <td>1693.101</td>\n",
       "      <td>2</td>\n",
       "      <td>0.438</td>\n",
       "      <td>846.5505</td>\n",
       "      <td>904.365</td>\n",
       "      <td>788.736</td>\n",
       "      <td>7.95</td>\n",
       "      <td>8.1</td>\n",
       "      <td>7.8</td>\n",
       "      <td>15.15</td>\n",
       "      <td>15.8</td>\n",
       "      <td>14.5</td>\n",
       "      <td>7.05</td>\n",
       "      <td>7.7</td>\n",
       "      <td>6.4</td>\n",
       "      <td>112.650818</td>\n",
       "      <td>YMA</td>\n",
       "    </tr>\n",
       "    <tr>\n",
       "      <th>170524</th>\n",
       "      <td>0.160</td>\n",
       "      <td>0.0</td>\n",
       "      <td>0.0</td>\n",
       "      <td>0.0</td>\n",
       "      <td>0.0</td>\n",
       "      <td>0.0</td>\n",
       "      <td>0.0</td>\n",
       "      <td>0.0</td>\n",
       "      <td>0.0</td>\n",
       "      <td>0.0</td>\n",
       "      <td>0.0</td>\n",
       "      <td>0.0</td>\n",
       "      <td>0.0</td>\n",
       "      <td>0.0</td>\n",
       "      <td>0.0</td>\n",
       "      <td>0.0</td>\n",
       "      <td>0.0</td>\n",
       "      <td>0.0</td>\n",
       "      <td>0.0</td>\n",
       "      <td>0.0</td>\n",
       "      <td>0.0</td>\n",
       "      <td>0.0</td>\n",
       "      <td>0.0</td>\n",
       "      <td>0.0</td>\n",
       "      <td>0.0</td>\n",
       "      <td>0.0</td>\n",
       "      <td>0.0</td>\n",
       "      <td>0.0</td>\n",
       "      <td>0.0</td>\n",
       "      <td>0.0</td>\n",
       "      <td>0.0</td>\n",
       "      <td>0.0</td>\n",
       "      <td>0.0</td>\n",
       "      <td>0.0</td>\n",
       "      <td>0.0</td>\n",
       "      <td>0.0</td>\n",
       "      <td>0.0</td>\n",
       "      <td>0.0</td>\n",
       "      <td>0.0</td>\n",
       "      <td>0.0</td>\n",
       "      <td>0.0</td>\n",
       "      <td>0.0</td>\n",
       "      <td>0.0</td>\n",
       "      <td>0.0</td>\n",
       "      <td>0.0</td>\n",
       "      <td>0.0</td>\n",
       "      <td>0.0</td>\n",
       "      <td>0.0</td>\n",
       "      <td>0.0</td>\n",
       "      <td>0.0</td>\n",
       "      <td>0.0</td>\n",
       "      <td>0.0</td>\n",
       "      <td>0.0</td>\n",
       "      <td>0.0</td>\n",
       "      <td>0.0</td>\n",
       "      <td>0.0</td>\n",
       "      <td>0.0</td>\n",
       "      <td>0.0</td>\n",
       "      <td>0.0</td>\n",
       "      <td>0.0</td>\n",
       "      <td>0.0</td>\n",
       "      <td>0.0</td>\n",
       "      <td>0.0</td>\n",
       "      <td>0.0</td>\n",
       "      <td>0.0</td>\n",
       "      <td>0.0</td>\n",
       "      <td>0.0</td>\n",
       "      <td>0.0</td>\n",
       "      <td>0.0</td>\n",
       "      <td>0.0</td>\n",
       "      <td>0.0</td>\n",
       "      <td>0.0</td>\n",
       "      <td>0.0</td>\n",
       "      <td>0.0</td>\n",
       "      <td>0.0</td>\n",
       "      <td>0.0</td>\n",
       "      <td>0.0</td>\n",
       "      <td>0.0</td>\n",
       "      <td>0.0</td>\n",
       "      <td>0.0</td>\n",
       "      <td>0.0</td>\n",
       "      <td>0.0</td>\n",
       "      <td>0.0</td>\n",
       "      <td>0.0</td>\n",
       "      <td>0.000</td>\n",
       "      <td>1</td>\n",
       "      <td>0.160</td>\n",
       "      <td>0.0000</td>\n",
       "      <td>0.000</td>\n",
       "      <td>0.000</td>\n",
       "      <td>0.00</td>\n",
       "      <td>0.0</td>\n",
       "      <td>0.0</td>\n",
       "      <td>0.00</td>\n",
       "      <td>0.0</td>\n",
       "      <td>0.0</td>\n",
       "      <td>0.00</td>\n",
       "      <td>0.0</td>\n",
       "      <td>0.0</td>\n",
       "      <td>0.000000</td>\n",
       "      <td>MYB</td>\n",
       "    </tr>\n",
       "    <tr>\n",
       "      <th>90160</th>\n",
       "      <td>1.504</td>\n",
       "      <td>0.0</td>\n",
       "      <td>0.0</td>\n",
       "      <td>0.0</td>\n",
       "      <td>0.0</td>\n",
       "      <td>0.0</td>\n",
       "      <td>0.0</td>\n",
       "      <td>0.0</td>\n",
       "      <td>0.0</td>\n",
       "      <td>0.0</td>\n",
       "      <td>0.0</td>\n",
       "      <td>0.0</td>\n",
       "      <td>0.0</td>\n",
       "      <td>0.0</td>\n",
       "      <td>0.0</td>\n",
       "      <td>0.0</td>\n",
       "      <td>0.0</td>\n",
       "      <td>0.0</td>\n",
       "      <td>0.0</td>\n",
       "      <td>0.0</td>\n",
       "      <td>0.0</td>\n",
       "      <td>0.0</td>\n",
       "      <td>0.0</td>\n",
       "      <td>0.0</td>\n",
       "      <td>0.0</td>\n",
       "      <td>0.0</td>\n",
       "      <td>0.0</td>\n",
       "      <td>0.0</td>\n",
       "      <td>0.0</td>\n",
       "      <td>0.0</td>\n",
       "      <td>0.0</td>\n",
       "      <td>0.0</td>\n",
       "      <td>0.0</td>\n",
       "      <td>0.0</td>\n",
       "      <td>0.0</td>\n",
       "      <td>0.0</td>\n",
       "      <td>0.0</td>\n",
       "      <td>0.0</td>\n",
       "      <td>0.0</td>\n",
       "      <td>0.0</td>\n",
       "      <td>0.0</td>\n",
       "      <td>0.0</td>\n",
       "      <td>0.0</td>\n",
       "      <td>0.0</td>\n",
       "      <td>0.0</td>\n",
       "      <td>0.0</td>\n",
       "      <td>0.0</td>\n",
       "      <td>0.0</td>\n",
       "      <td>0.0</td>\n",
       "      <td>0.0</td>\n",
       "      <td>0.0</td>\n",
       "      <td>0.0</td>\n",
       "      <td>0.0</td>\n",
       "      <td>0.0</td>\n",
       "      <td>0.0</td>\n",
       "      <td>0.0</td>\n",
       "      <td>0.0</td>\n",
       "      <td>0.0</td>\n",
       "      <td>0.0</td>\n",
       "      <td>0.0</td>\n",
       "      <td>0.0</td>\n",
       "      <td>0.0</td>\n",
       "      <td>0.0</td>\n",
       "      <td>0.0</td>\n",
       "      <td>0.0</td>\n",
       "      <td>0.0</td>\n",
       "      <td>0.0</td>\n",
       "      <td>0.0</td>\n",
       "      <td>0.0</td>\n",
       "      <td>0.0</td>\n",
       "      <td>0.0</td>\n",
       "      <td>0.0</td>\n",
       "      <td>0.0</td>\n",
       "      <td>0.0</td>\n",
       "      <td>0.0</td>\n",
       "      <td>0.0</td>\n",
       "      <td>0.0</td>\n",
       "      <td>0.0</td>\n",
       "      <td>0.0</td>\n",
       "      <td>0.0</td>\n",
       "      <td>0.0</td>\n",
       "      <td>0.0</td>\n",
       "      <td>0.0</td>\n",
       "      <td>0.0</td>\n",
       "      <td>0.000</td>\n",
       "      <td>1</td>\n",
       "      <td>1.504</td>\n",
       "      <td>0.0000</td>\n",
       "      <td>0.000</td>\n",
       "      <td>0.000</td>\n",
       "      <td>0.00</td>\n",
       "      <td>0.0</td>\n",
       "      <td>0.0</td>\n",
       "      <td>0.00</td>\n",
       "      <td>0.0</td>\n",
       "      <td>0.0</td>\n",
       "      <td>0.00</td>\n",
       "      <td>0.0</td>\n",
       "      <td>0.0</td>\n",
       "      <td>0.000000</td>\n",
       "      <td>NONPACK</td>\n",
       "    </tr>\n",
       "    <tr>\n",
       "      <th>78615</th>\n",
       "      <td>1.000</td>\n",
       "      <td>0.0</td>\n",
       "      <td>0.0</td>\n",
       "      <td>0.0</td>\n",
       "      <td>0.0</td>\n",
       "      <td>0.0</td>\n",
       "      <td>0.0</td>\n",
       "      <td>0.0</td>\n",
       "      <td>0.0</td>\n",
       "      <td>0.0</td>\n",
       "      <td>0.0</td>\n",
       "      <td>0.0</td>\n",
       "      <td>0.0</td>\n",
       "      <td>0.0</td>\n",
       "      <td>0.0</td>\n",
       "      <td>0.0</td>\n",
       "      <td>0.0</td>\n",
       "      <td>0.0</td>\n",
       "      <td>0.0</td>\n",
       "      <td>0.0</td>\n",
       "      <td>0.0</td>\n",
       "      <td>0.0</td>\n",
       "      <td>0.0</td>\n",
       "      <td>0.0</td>\n",
       "      <td>0.0</td>\n",
       "      <td>0.0</td>\n",
       "      <td>0.0</td>\n",
       "      <td>0.0</td>\n",
       "      <td>0.0</td>\n",
       "      <td>0.0</td>\n",
       "      <td>0.0</td>\n",
       "      <td>0.0</td>\n",
       "      <td>0.0</td>\n",
       "      <td>0.0</td>\n",
       "      <td>0.0</td>\n",
       "      <td>0.0</td>\n",
       "      <td>0.0</td>\n",
       "      <td>0.0</td>\n",
       "      <td>0.0</td>\n",
       "      <td>0.0</td>\n",
       "      <td>0.0</td>\n",
       "      <td>0.0</td>\n",
       "      <td>0.0</td>\n",
       "      <td>0.0</td>\n",
       "      <td>0.0</td>\n",
       "      <td>0.0</td>\n",
       "      <td>0.0</td>\n",
       "      <td>0.0</td>\n",
       "      <td>0.0</td>\n",
       "      <td>0.0</td>\n",
       "      <td>0.0</td>\n",
       "      <td>0.0</td>\n",
       "      <td>0.0</td>\n",
       "      <td>0.0</td>\n",
       "      <td>0.0</td>\n",
       "      <td>0.0</td>\n",
       "      <td>0.0</td>\n",
       "      <td>0.0</td>\n",
       "      <td>0.0</td>\n",
       "      <td>0.0</td>\n",
       "      <td>0.0</td>\n",
       "      <td>0.0</td>\n",
       "      <td>0.0</td>\n",
       "      <td>0.0</td>\n",
       "      <td>0.0</td>\n",
       "      <td>0.0</td>\n",
       "      <td>0.0</td>\n",
       "      <td>0.0</td>\n",
       "      <td>0.0</td>\n",
       "      <td>0.0</td>\n",
       "      <td>0.0</td>\n",
       "      <td>0.0</td>\n",
       "      <td>0.0</td>\n",
       "      <td>0.0</td>\n",
       "      <td>0.0</td>\n",
       "      <td>0.0</td>\n",
       "      <td>0.0</td>\n",
       "      <td>0.0</td>\n",
       "      <td>0.0</td>\n",
       "      <td>0.0</td>\n",
       "      <td>0.0</td>\n",
       "      <td>0.0</td>\n",
       "      <td>0.0</td>\n",
       "      <td>0.0</td>\n",
       "      <td>0.000</td>\n",
       "      <td>1</td>\n",
       "      <td>1.000</td>\n",
       "      <td>0.0000</td>\n",
       "      <td>0.000</td>\n",
       "      <td>0.000</td>\n",
       "      <td>0.00</td>\n",
       "      <td>0.0</td>\n",
       "      <td>0.0</td>\n",
       "      <td>0.00</td>\n",
       "      <td>0.0</td>\n",
       "      <td>0.0</td>\n",
       "      <td>0.00</td>\n",
       "      <td>0.0</td>\n",
       "      <td>0.0</td>\n",
       "      <td>0.000000</td>\n",
       "      <td>MYB</td>\n",
       "    </tr>\n",
       "  </tbody>\n",
       "</table>\n",
       "</div>"
      ],
      "text/plain": [
       "        goods_wght     a     b     c  type_0.0  type_20.0  type_40.0  \\\n",
       "137032       2.135  26.0  13.0  15.0       0.0        0.0        0.0   \n",
       "12237        0.876  15.9  30.3  14.1       0.0        0.0        0.0   \n",
       "170524       0.160   0.0   0.0   0.0       0.0        0.0        0.0   \n",
       "90160        1.504   0.0   0.0   0.0       0.0        0.0        0.0   \n",
       "78615        1.000   0.0   0.0   0.0       0.0        0.0        0.0   \n",
       "\n",
       "        type_81.0  type_110.0  type_120.0  type_130.0  type_140.0  type_160.0  \\\n",
       "137032        0.0         0.0         0.0         0.0         0.0         0.0   \n",
       "12237         0.0         0.0         0.0         0.0         0.0         0.0   \n",
       "170524        0.0         0.0         0.0         0.0         0.0         0.0   \n",
       "90160         0.0         0.0         0.0         0.0         0.0         0.0   \n",
       "78615         0.0         0.0         0.0         0.0         0.0         0.0   \n",
       "\n",
       "        type_200.0  type_210.0  type_290.0  type_291.0  type_292.0  \\\n",
       "137032         1.0         0.0         1.0         0.0         0.0   \n",
       "12237          0.0         0.0         2.0         0.0         0.0   \n",
       "170524         0.0         0.0         0.0         0.0         0.0   \n",
       "90160          0.0         0.0         0.0         0.0         0.0   \n",
       "78615          0.0         0.0         0.0         0.0         0.0   \n",
       "\n",
       "        type_300.0  type_301.0  type_302.0  type_303.0  type_305.0  \\\n",
       "137032         0.0         0.0         0.0         0.0         0.0   \n",
       "12237          0.0         0.0         0.0         0.0         0.0   \n",
       "170524         0.0         0.0         0.0         0.0         0.0   \n",
       "90160          0.0         0.0         0.0         0.0         0.0   \n",
       "78615          0.0         0.0         0.0         0.0         0.0   \n",
       "\n",
       "        type_310.0  type_315.0  type_320.0  type_330.0  type_340.0  \\\n",
       "137032         0.0         0.0         0.0         0.0         1.0   \n",
       "12237          0.0         0.0         2.0         0.0         2.0   \n",
       "170524         0.0         0.0         0.0         0.0         0.0   \n",
       "90160          0.0         0.0         0.0         0.0         0.0   \n",
       "78615          0.0         0.0         0.0         0.0         0.0   \n",
       "\n",
       "        type_350.0  type_360.0  type_400.0  type_410.0  type_440.0  \\\n",
       "137032         0.0         0.0         0.0         0.0         0.0   \n",
       "12237          0.0         0.0         0.0         2.0         0.0   \n",
       "170524         0.0         0.0         0.0         0.0         0.0   \n",
       "90160          0.0         0.0         0.0         0.0         0.0   \n",
       "78615          0.0         0.0         0.0         0.0         0.0   \n",
       "\n",
       "        type_441.0  type_460.0  type_480.0  type_485.0  type_490.0  \\\n",
       "137032         0.0         0.0         0.0         0.0         0.0   \n",
       "12237          0.0         0.0         0.0         0.0         0.0   \n",
       "170524         0.0         0.0         0.0         0.0         0.0   \n",
       "90160          0.0         0.0         0.0         0.0         0.0   \n",
       "78615          0.0         0.0         0.0         0.0         0.0   \n",
       "\n",
       "        type_510.0  type_520.0  type_600.0  type_601.0  type_610.0  \\\n",
       "137032         0.0         0.0         0.0         0.0         0.0   \n",
       "12237          0.0         0.0         0.0         0.0         0.0   \n",
       "170524         0.0         0.0         0.0         0.0         0.0   \n",
       "90160          0.0         0.0         0.0         0.0         0.0   \n",
       "78615          0.0         0.0         0.0         0.0         0.0   \n",
       "\n",
       "        type_611.0  type_620.0  type_621.0  type_622.0  type_623.0  \\\n",
       "137032         0.0         0.0         0.0         0.0         0.0   \n",
       "12237          0.0         0.0         0.0         0.0         0.0   \n",
       "170524         0.0         0.0         0.0         0.0         0.0   \n",
       "90160          0.0         0.0         0.0         0.0         0.0   \n",
       "78615          0.0         0.0         0.0         0.0         0.0   \n",
       "\n",
       "        type_640.0  type_641.0  type_670.0  type_671.0  type_672.0  \\\n",
       "137032         1.0         0.0         0.0         0.0         0.0   \n",
       "12237          0.0         0.0         0.0         0.0         0.0   \n",
       "170524         0.0         0.0         0.0         0.0         0.0   \n",
       "90160          0.0         0.0         0.0         0.0         0.0   \n",
       "78615          0.0         0.0         0.0         0.0         0.0   \n",
       "\n",
       "        type_673.0  type_690.0  type_691.0  type_692.0  type_710.0  \\\n",
       "137032         0.0         0.0         0.0         1.0         0.0   \n",
       "12237          0.0         0.0         0.0         0.0         0.0   \n",
       "170524         0.0         0.0         0.0         0.0         0.0   \n",
       "90160          0.0         0.0         0.0         0.0         0.0   \n",
       "78615          0.0         0.0         0.0         0.0         0.0   \n",
       "\n",
       "        type_720.0  type_750.0  type_751.0  type_770.0  type_780.0  \\\n",
       "137032         0.0         0.0         0.0         0.0         0.0   \n",
       "12237          0.0         2.0         0.0         0.0         2.0   \n",
       "170524         0.0         0.0         0.0         0.0         0.0   \n",
       "90160          0.0         0.0         0.0         0.0         0.0   \n",
       "78615          0.0         0.0         0.0         0.0         0.0   \n",
       "\n",
       "        type_790.0  type_799.0  type_801.0  type_900.0  type_901.0  \\\n",
       "137032         0.0         0.0         0.0         0.0         0.0   \n",
       "12237          0.0         0.0         0.0         0.0         0.0   \n",
       "170524         0.0         0.0         0.0         0.0         0.0   \n",
       "90160          0.0         0.0         0.0         0.0         0.0   \n",
       "78615          0.0         0.0         0.0         0.0         0.0   \n",
       "\n",
       "        type_905.0  type_908.0  type_910.0  type_911.0  type_920.0  \\\n",
       "137032         0.0         0.0         0.0         0.0         0.0   \n",
       "12237          0.0         0.0         0.0         0.0         0.0   \n",
       "170524         0.0         0.0         0.0         0.0         0.0   \n",
       "90160          0.0         0.0         0.0         0.0         0.0   \n",
       "78615          0.0         0.0         0.0         0.0         0.0   \n",
       "\n",
       "        type_930.0  type_931.0  type_950.0  type_955.0  type_960.0  \\\n",
       "137032         0.0         0.0         0.0         0.0         0.0   \n",
       "12237          0.0         0.0         0.0         0.0         0.0   \n",
       "170524         0.0         0.0         0.0         0.0         0.0   \n",
       "90160          0.0         0.0         0.0         0.0         0.0   \n",
       "78615          0.0         0.0         0.0         0.0         0.0   \n",
       "\n",
       "        type_970.0  type_980.0  type_990.0  type_1010.0  type_1011.0  \\\n",
       "137032         0.0         0.0         0.0          0.0          0.0   \n",
       "12237          0.0         0.0         0.0          0.0          0.0   \n",
       "170524         0.0         0.0         0.0          0.0          0.0   \n",
       "90160          0.0         0.0         0.0          0.0          0.0   \n",
       "78615          0.0         0.0         0.0          0.0          0.0   \n",
       "\n",
       "        type_1300.0    volume  count  goods_wght_mean  volume_mean  \\\n",
       "137032          0.0  5070.000      1            2.135    5070.0000   \n",
       "12237           0.0  1693.101      2            0.438     846.5505   \n",
       "170524          0.0     0.000      1            0.160       0.0000   \n",
       "90160           0.0     0.000      1            1.504       0.0000   \n",
       "78615           0.0     0.000      1            1.000       0.0000   \n",
       "\n",
       "        volume_max  volume_min  a_mean  a_max  a_min  b_mean  b_max  b_min  \\\n",
       "137032    5070.000    5070.000   26.00   26.0   26.0   13.00   13.0   13.0   \n",
       "12237      904.365     788.736    7.95    8.1    7.8   15.15   15.8   14.5   \n",
       "170524       0.000       0.000    0.00    0.0    0.0    0.00    0.0    0.0   \n",
       "90160        0.000       0.000    0.00    0.0    0.0    0.00    0.0    0.0   \n",
       "78615        0.000       0.000    0.00    0.0    0.0    0.00    0.0    0.0   \n",
       "\n",
       "        c_mean  c_max  c_min        size  package  \n",
       "137032   15.00   15.0   15.0   93.887150      YMC  \n",
       "12237     7.05    7.7    6.4  112.650818      YMA  \n",
       "170524    0.00    0.0    0.0    0.000000      MYB  \n",
       "90160     0.00    0.0    0.0    0.000000  NONPACK  \n",
       "78615     0.00    0.0    0.0    0.000000      MYB  "
      ]
     },
     "execution_count": 95,
     "metadata": {},
     "output_type": "execute_result"
    }
   ],
   "source": [
    "#проверим результат\n",
    "df_raw.sample(5)"
   ]
  },
  {
   "cell_type": "markdown",
   "id": "9b72b2b8",
   "metadata": {},
   "source": [
    "Далее сделаем еще один датасет для анализа данных."
   ]
  },
  {
   "cell_type": "code",
   "execution_count": 58,
   "id": "a68debe6",
   "metadata": {},
   "outputs": [],
   "source": [
    "# объединим признаки\n",
    "df1 = pd.merge(data_new, sku, how='left', on='sku')\n",
    "\n",
    "#продублируем датасет\n",
    "df = df1.copy()"
   ]
  },
  {
   "cell_type": "code",
   "execution_count": 59,
   "id": "d1dc7287",
   "metadata": {},
   "outputs": [],
   "source": [
    "#уберем ненужные столбцы\n",
    "df = df.drop(['whs',\n",
    "                'who',\n",
    "                'trackingid',\n",
    "                'rec_calc_cube'], axis=1)"
   ]
  },
  {
   "cell_type": "code",
   "execution_count": 60,
   "id": "59267f36",
   "metadata": {},
   "outputs": [],
   "source": [
    "#заменим названия столбцов для исследования\n",
    "carton = carton.rename(columns={'cartontype': 'carton'})\n",
    "df = df.rename(columns={'cartontype': 'carton'})"
   ]
  },
  {
   "cell_type": "code",
   "execution_count": 61,
   "id": "cacb02af",
   "metadata": {},
   "outputs": [],
   "source": [
    "#присоединим необходимые для анализа признаки\n",
    "df = pd.merge(df, carton, how='left', on='carton')"
   ]
  },
  {
   "cell_type": "code",
   "execution_count": 62,
   "id": "4c5738c8",
   "metadata": {},
   "outputs": [
    {
     "name": "stdout",
     "output_type": "stream",
     "text": [
      "<class 'pandas.core.frame.DataFrame'>\n",
      "RangeIndex: 325623 entries, 0 to 325622\n",
      "Data columns (total 14 columns):\n",
      " #   Column         Non-Null Count   Dtype  \n",
      "---  ------         --------------   -----  \n",
      " 0   orderkey       325623 non-null  object \n",
      " 1   box_num        325623 non-null  int64  \n",
      " 2   sel_calc_cube  325623 non-null  int64  \n",
      " 3   pack_volume    325623 non-null  int64  \n",
      " 4   goods_wght     325623 non-null  float64\n",
      " 5   sku            325623 non-null  object \n",
      " 6   carton         325623 non-null  object \n",
      " 7   a              314830 non-null  float64\n",
      " 8   b              314830 non-null  float64\n",
      " 9   c              314830 non-null  float64\n",
      " 10  length         325621 non-null  float64\n",
      " 11  width          325621 non-null  float64\n",
      " 12  height         325621 non-null  float64\n",
      " 13  displayrfpack  325621 non-null  float64\n",
      "dtypes: float64(8), int64(3), object(3)\n",
      "memory usage: 34.8+ MB\n"
     ]
    }
   ],
   "source": [
    "df.info()"
   ]
  },
  {
   "cell_type": "markdown",
   "id": "fe2ca7d4",
   "metadata": {},
   "source": [
    "## Исследовательский анализ данных"
   ]
  },
  {
   "cell_type": "markdown",
   "id": "e5d51d1d",
   "metadata": {},
   "source": [
    "Вернемся к исходным датасетам и исследуем взаимосвязи в данных."
   ]
  },
  {
   "cell_type": "code",
   "execution_count": 63,
   "id": "395ba150",
   "metadata": {},
   "outputs": [
    {
     "name": "stdout",
     "output_type": "stream",
     "text": [
      "carton\n",
      "MYB        0.171785\n",
      "MYC        0.149980\n",
      "NONPACK    0.093657\n",
      "YMC        0.083376\n",
      "MYD        0.075741\n",
      "YMG        0.072507\n",
      "MYA        0.062652\n",
      "YMF        0.059136\n",
      "YMW        0.058881\n",
      "YMA        0.048507\n",
      "YME        0.038956\n",
      "STRETCH    0.038280\n",
      "MYE        0.029847\n",
      "YML        0.010079\n",
      "MYF        0.004146\n",
      "YMX        0.002463\n",
      "YMB        0.000006\n",
      "Name: proportion, dtype: float64\n"
     ]
    },
    {
     "data": {
      "image/png": "[encoded data removed]",
      "text/plain": [
       "<Figure size 960x560 with 1 Axes>"
      ]
     },
     "metadata": {
      "needs_background": "light"
     },
     "output_type": "display_data"
    }
   ],
   "source": [
    "#исследуем баланс классов\n",
    "\n",
    "plt.figure(figsize=(12,7), dpi= 80)\n",
    "\n",
    "#относительная частота значений от 0 до 1\n",
    "class_frequency = df['carton'].value_counts(normalize=True)\n",
    "\n",
    "#выведем относительное количество данных в двух классах\n",
    "print(class_frequency)\n",
    "\n",
    "#для наглядности выведем диаграмму\n",
    "class_frequency.plot(kind='bar', color='lightgreen');"
   ]
  },
  {
   "cell_type": "markdown",
   "id": "ee8f6af9",
   "metadata": {},
   "source": [
    "Можно заметить существенный дисбаланс классов. Например, для типа упаковки YMB встречается одно значение. При обучении это может помешать."
   ]
  },
  {
   "cell_type": "code",
   "execution_count": 64,
   "id": "d8ab9be6",
   "metadata": {},
   "outputs": [
    {
     "name": "stdout",
     "output_type": "stream",
     "text": [
      "interval columns not set, guessing: ['box_num', 'sel_calc_cube', 'pack_volume', 'goods_wght', 'a', 'b', 'c', 'length', 'width', 'height']\n"
     ]
    },
    {
     "data": {
      "image/png": "[encoded data removed]",
      "text/plain": [
       "<Figure size 960x560 with 2 Axes>"
      ]
     },
     "metadata": {
      "needs_background": "light"
     },
     "output_type": "display_data"
    }
   ],
   "source": [
    "#отобразим матрицу корреляции для всех признаков\n",
    "\n",
    "columns = ['box_num', 'sel_calc_cube', \n",
    "           'pack_volume', 'goods_wght', \n",
    "           'sku', 'carton', 'a', 'b', \n",
    "           'c', 'length', 'width', 'height']\n",
    "\n",
    "\n",
    "plt.figure(figsize=(12,7), dpi= 80)\n",
    "\n",
    "sns.heatmap(df[columns].phik_matrix().round(2),\n",
    "            xticklabels=columns, \n",
    "            yticklabels=columns, \n",
    "            cmap='RdYlGn', \n",
    "            center=0, \n",
    "            annot=True)\n",
    "\n",
    "#выведем результат\n",
    "plt.title('Матрица корреляции', fontsize=18)\n",
    "plt.xticks(fontsize=12)\n",
    "plt.yticks(fontsize=12)\n",
    "plt.show()\n",
    "None"
   ]
  },
  {
   "cell_type": "markdown",
   "id": "fd0e8f87",
   "metadata": {},
   "source": [
    "На матрице можно заметить высокие значения корреляции carton с признаками размеров товара (a, b, c) и веса. Признаки из исторических данных не представляют большой ценности в контексте будущего обучения."
   ]
  },
  {
   "cell_type": "code",
   "execution_count": 65,
   "id": "0776a52c",
   "metadata": {},
   "outputs": [
    {
     "data": {
      "text/plain": [
       "29"
      ]
     },
     "execution_count": 65,
     "metadata": {},
     "output_type": "execute_result"
    }
   ],
   "source": [
    "#проперим количество уникальных значений\n",
    "carton['carton'].value_counts().count()"
   ]
  },
  {
   "cell_type": "code",
   "execution_count": 66,
   "id": "08d32494",
   "metadata": {},
   "outputs": [
    {
     "data": {
      "text/plain": [
       "17"
      ]
     },
     "execution_count": 66,
     "metadata": {},
     "output_type": "execute_result"
    }
   ],
   "source": [
    "#проперим количество уникальных значений\n",
    "df['carton'].value_counts().count()"
   ]
  },
  {
   "cell_type": "markdown",
   "id": "5be8dcca",
   "metadata": {},
   "source": [
    "Изначально в файле carton 29 типов упаковки, из них используется лишь 17."
   ]
  },
  {
   "cell_type": "code",
   "execution_count": 67,
   "id": "3a4afad2",
   "metadata": {},
   "outputs": [
    {
     "data": {
      "image/png": "[encoded data removed]",
      "text/plain": [
       "<Figure size 720x504 with 1 Axes>"
      ]
     },
     "metadata": {
      "needs_background": "light"
     },
     "output_type": "display_data"
    }
   ],
   "source": [
    "#сгруппируем ушедших клиентов по типу подписки\n",
    "t = (df.pivot_table(index='carton', values='sku', aggfunc='count')\n",
    "      .sort_values(by=['sku'], ascending=False)\n",
    "      .plot(kind='bar', figsize= (10,7), color='green'));\n",
    "\n",
    "plt.xlabel('Тип упаковки')\n",
    "plt.ylabel('Количество товаров')\n",
    "plt.title('Распределение видов упаковки');"
   ]
  },
  {
   "cell_type": "markdown",
   "id": "c6c69557",
   "metadata": {},
   "source": [
    "В наших данных 'MYA', 'MYB', 'MYC', 'MYD', 'MYE' - это пакеты. Чаще всего предпочтение отдается пакету, либо товар не запаковывается вообще."
   ]
  },
  {
   "cell_type": "code",
   "execution_count": 68,
   "id": "9940c8c9",
   "metadata": {},
   "outputs": [
    {
     "data": {
      "image/png": "[encoded data removed]",
      "text/plain": [
       "<Figure size 1152x504 with 1 Axes>"
      ]
     },
     "metadata": {
      "needs_background": "light"
     },
     "output_type": "display_data"
    }
   ],
   "source": [
    "#сгруппируем ушедших клиентов по типу подписки\n",
    "s = (df_two.pivot_table(index='cargotypes', values='sku', aggfunc='count')\n",
    "      .sort_values(by=['sku'], ascending=False)\n",
    "      .plot(kind='bar', figsize= (16,7), color='blue'))\n",
    "\n",
    "plt.xlabel('Карготипы')\n",
    "plt.ylabel('Количество товаров')\n",
    "plt.title('Распределение карготипов');"
   ]
  },
  {
   "cell_type": "code",
   "execution_count": 69,
   "id": "fdb587cf",
   "metadata": {},
   "outputs": [
    {
     "data": {
      "text/html": [
       "<div>\n",
       "<style scoped>\n",
       "    .dataframe tbody tr th:only-of-type {\n",
       "        vertical-align: middle;\n",
       "    }\n",
       "\n",
       "    .dataframe tbody tr th {\n",
       "        vertical-align: top;\n",
       "    }\n",
       "\n",
       "    .dataframe thead th {\n",
       "        text-align: right;\n",
       "    }\n",
       "</style>\n",
       "<table border=\"1\" class=\"dataframe\">\n",
       "  <thead>\n",
       "    <tr style=\"text-align: right;\">\n",
       "      <th></th>\n",
       "      <th>cargotype</th>\n",
       "      <th>description</th>\n",
       "    </tr>\n",
       "  </thead>\n",
       "  <tbody>\n",
       "    <tr>\n",
       "      <th>66</th>\n",
       "      <td>290</td>\n",
       "      <td>Склад МГТ (малогабаритный товар)</td>\n",
       "    </tr>\n",
       "  </tbody>\n",
       "</table>\n",
       "</div>"
      ],
      "text/plain": [
       "    cargotype                       description\n",
       "66        290  Склад МГТ (малогабаритный товар)"
      ]
     },
     "execution_count": 69,
     "metadata": {},
     "output_type": "execute_result"
    }
   ],
   "source": [
    "#посмотрим на самый частовстречающийся карготип\n",
    "cargotype_info[cargotype_info['cargotype'] == 290.0]"
   ]
  },
  {
   "cell_type": "markdown",
   "id": "5cba9792",
   "metadata": {},
   "source": [
    "Можно сделать предположение, что чаще всего в заказе встречается малогабаритный товар, который упаковывается в пакет."
   ]
  },
  {
   "cell_type": "code",
   "execution_count": 70,
   "id": "adbf0a27",
   "metadata": {},
   "outputs": [
    {
     "data": {
      "text/plain": [
       "box_num\n",
       "1     296683\n",
       "2      15199\n",
       "3       4311\n",
       "4       1739\n",
       "5        981\n",
       "6        503\n",
       "7        431\n",
       "10       267\n",
       "8        248\n",
       "12       212\n",
       "Name: count, dtype: int64"
      ]
     },
     "execution_count": 70,
     "metadata": {},
     "output_type": "execute_result"
    }
   ],
   "source": [
    "#выведем наиболее часто встречающееся количество коробок\n",
    "df['box_num'].value_counts().head(10)"
   ]
  },
  {
   "cell_type": "markdown",
   "id": "14458691",
   "metadata": {},
   "source": [
    "Две и более коробки для одного заказа встречаются довольно часто."
   ]
  },
  {
   "cell_type": "markdown",
   "id": "3cf2595f",
   "metadata": {},
   "source": [
    "Далее выполним несколько группировок, чтобы узнать процент заказов с одним товаром"
   ]
  },
  {
   "cell_type": "code",
   "execution_count": 71,
   "id": "3e9278bc",
   "metadata": {},
   "outputs": [],
   "source": [
    "#выполним группировку по заказу\n",
    "order_counts = df[['orderkey', 'sku']].groupby(['orderkey']).count()\n",
    "\n",
    "#выделим заказы с одним товаром\n",
    "single_item_orders = order_counts[order_counts['sku'] == 1]\n",
    "\n",
    "#создадим список заказов с одним товаром \n",
    "single_item_order_ids = single_item_orders.index.tolist()\n",
    "\n",
    "#создадим новый датасет\n",
    "one_sku = df[['orderkey', 'sku']]\n",
    "\n",
    "#отфильтруем заказы с одним товаром\n",
    "one_sku = df[df['orderkey'].isin(single_item_order_ids)]"
   ]
  },
  {
   "cell_type": "code",
   "execution_count": 72,
   "id": "cadca030-8835-42d1-a9bd-79435756e7d7",
   "metadata": {
    "scrolled": true
   },
   "outputs": [
    {
     "data": {
      "text/plain": [
       "(103970, 14)"
      ]
     },
     "execution_count": 72,
     "metadata": {},
     "output_type": "execute_result"
    }
   ],
   "source": [
    "#посмотрим на размер\n",
    "one_sku.shape"
   ]
  },
  {
   "cell_type": "code",
   "execution_count": 73,
   "id": "a02f7551-ab2e-4fba-aa51-841fd8316900",
   "metadata": {},
   "outputs": [
    {
     "data": {
      "text/plain": [
       "0.6502229532392323"
      ]
     },
     "execution_count": 73,
     "metadata": {},
     "output_type": "execute_result"
    }
   ],
   "source": [
    "#определим процент с заказов с одним товаром\n",
    "one_sku.shape[0]  / df['orderkey'].nunique()"
   ]
  },
  {
   "cell_type": "markdown",
   "id": "4c8b912e-46f4-41f5-9069-2aefbd1f0913",
   "metadata": {},
   "source": [
    "В 65% заказов один товар. Это больше половины заказов в целом по исходным данным."
   ]
  },
  {
   "cell_type": "markdown",
   "id": "4f0e66ea",
   "metadata": {},
   "source": [
    "Далее посмотрим на распределение заказов по количеству товаров."
   ]
  },
  {
   "cell_type": "code",
   "execution_count": 74,
   "id": "71342737-28ed-4795-92a5-2a305f2a2c64",
   "metadata": {},
   "outputs": [
    {
     "data": {
      "image/png": "[encoded data removed]",
      "text/plain": [
       "<Figure size 720x504 with 1 Axes>"
      ]
     },
     "metadata": {
      "needs_background": "light"
     },
     "output_type": "display_data"
    }
   ],
   "source": [
    "#посчитаем количество заказов\n",
    "order_counts = df[['orderkey', 'sku']].groupby(['orderkey']).count()\n",
    "\n",
    "#выведем количество\n",
    "order_counts.value_counts()\n",
    "\n",
    "#выведем количество на графике\n",
    "order_counts.value_counts().plot(xlim=(0,15),\n",
    "                                 figsize= (10,7))\n",
    "\n",
    "plt.xlabel('Количество товаров заказе')\n",
    "plt.ylabel('Количество заказов')\n",
    "plt.title('Распределение заказов по количеству товаров');"
   ]
  },
  {
   "cell_type": "markdown",
   "id": "1f273876-55e6-4b51-9318-157cc97f57f3",
   "metadata": {},
   "source": [
    "На графике видно правильное распределение количества заказов в товаре, никаких пиков."
   ]
  },
  {
   "cell_type": "code",
   "execution_count": 75,
   "id": "e9fd5e31-13da-49d1-be18-3694fc35b6fb",
   "metadata": {},
   "outputs": [
    {
     "data": {
      "text/plain": [
       "159899"
      ]
     },
     "execution_count": 75,
     "metadata": {},
     "output_type": "execute_result"
    }
   ],
   "source": [
    "#посмотрим на количество уникальных заказов\n",
    "df['orderkey'].nunique()"
   ]
  },
  {
   "cell_type": "code",
   "execution_count": 76,
   "id": "342caf72-8663-4246-b582-f49b58d7a656",
   "metadata": {},
   "outputs": [
    {
     "data": {
      "image/png": "[encoded data removed]",
      "text/plain": [
       "<Figure size 720x360 with 1 Axes>"
      ]
     },
     "metadata": {
      "needs_background": "light"
     },
     "output_type": "display_data"
    }
   ],
   "source": [
    "#посмотрим количество карготипов для каждого товара\n",
    "(sku_cargotypes\n",
    " .groupby('sku')['cargotype']\n",
    " .count()\n",
    " .reset_index()\n",
    " .hist(bins=30, figsize=(10,5)))\n",
    "\n",
    "\n",
    "plt.xlabel('Количество карготипов')\n",
    "plt.ylabel('Количество заказов')\n",
    "plt.title('Частота значений карготипов');"
   ]
  },
  {
   "cell_type": "markdown",
   "id": "86cf1597",
   "metadata": {},
   "source": [
    "Чаще всего для одного товара бывает 1 или 2 карготипа. Но бывает и больше."
   ]
  },
  {
   "cell_type": "markdown",
   "id": "59c6c589-9ba5-48a3-a1d9-6d6879cf42e9",
   "metadata": {},
   "source": [
    "Далее посмотрим, насколько часто выбор упаковщиков отличается для одного и того же товара."
   ]
  },
  {
   "cell_type": "code",
   "execution_count": 77,
   "id": "37f21c10",
   "metadata": {},
   "outputs": [],
   "source": [
    "#удалим ненужные столбцы\n",
    "one_sku = one_sku.drop(['orderkey', 'box_num'], axis=1)"
   ]
  },
  {
   "cell_type": "code",
   "execution_count": 78,
   "id": "e77e9abb-b3a8-42c1-8690-98e523cc220c",
   "metadata": {},
   "outputs": [
    {
     "data": {
      "text/plain": [
       "0.8167717008027608"
      ]
     },
     "execution_count": 78,
     "metadata": {},
     "output_type": "execute_result"
    }
   ],
   "source": [
    "#оставим только уникальные сочетания товара и упаковки\n",
    "carton_counts = one_sku.drop_duplicates(subset=['carton', 'sku'])\n",
    "\n",
    "#Сгруппируем по товару, чтобы посчитать количество вариантов упаковки\n",
    "sku_carton = (carton_counts.groupby('sku')['carton']\n",
    "              .count()\n",
    "              .sort_values(ascending=False)\n",
    "              .reset_index())\n",
    "\n",
    "#посчитаем долю заказов\n",
    "sku_carton[sku_carton['carton'] == 1].shape[0] / sku_carton.shape[0] "
   ]
  },
  {
   "cell_type": "markdown",
   "id": "db9847a0-4778-4d6b-89f4-f83c334b3bf0",
   "metadata": {},
   "source": [
    "В 82 % заказов с одним товаром упаковщики всегда выбирали 1 вариант упаковки."
   ]
  },
  {
   "cell_type": "code",
   "execution_count": 79,
   "id": "524a6790-029a-47f9-af39-5edab2d21e2a",
   "metadata": {},
   "outputs": [
    {
     "data": {
      "text/plain": [
       "carton   pack_volume  a     b    c     length  width  height\n",
       "MYA      5698         37.0  7.0  22.0  15.0    20.0   3.33        6\n",
       "MYB      5698         37.0  7.0  22.0  22.0    32.0   4.90       16\n",
       "MYC      5698         37.0  7.0  22.0  30.0    38.0   7.40      211\n",
       "MYD      5698         37.0  7.0  22.0  38.0    50.0   8.20       85\n",
       "MYE      5698         37.0  7.0  22.0  43.0    63.0   9.70        4\n",
       "NONPACK  5698         37.0  7.0  22.0  0.0     0.0    0.00       20\n",
       "STRETCH  5698         37.0  7.0  22.0  0.0     0.0    0.00        1\n",
       "YMC      5698         37.0  7.0  22.0  30.0    20.0   15.00       1\n",
       "YMF      5698         37.0  7.0  22.0  35.0    25.0   15.00       5\n",
       "YMG      5698         37.0  7.0  22.0  44.7    30.0   20.00       9\n",
       "YMW      5698         37.0  7.0  22.0  40.0    30.0   15.00      11\n",
       "Name: carton, dtype: int64"
      ]
     },
     "execution_count": 79,
     "metadata": {},
     "output_type": "execute_result"
    }
   ],
   "source": [
    "#выведем различные варианты упаковки одного товара\n",
    "check_sku = one_sku[one_sku['sku'] == 'bd96ee8a131321f5c6d99aba4d778eed']\n",
    "\n",
    "check_sku.groupby(['carton', 'pack_volume', 'a', 'b',\n",
    "       'c', 'length', 'width', 'height'])['carton'].count()"
   ]
  },
  {
   "cell_type": "markdown",
   "id": "40053cbd-610d-4b86-863a-738083e0bbee",
   "metadata": {},
   "source": [
    "В таблице выше показаны различные варианты упаковки одного товара, в последнем столбце количество раз ее использования. На примере этой sku видно, что наиболее часто используемая упаковка подходит по размерам наилучшим образом. Если размеры товара верны, сложно представить как упаковщики положили в sku в меньшие коробки.\n",
    "\n",
    "Кроме того, можно резюмировать следующие гипотезы:\n",
    "\n",
    "- чаще всего в заказе встречается малогабаритный товар, который упаковывается в пакет;\n",
    "- в 65% заказов содержится только один товар;\n",
    "- в 82% заказов с одним товаром упаковщики всегда выбирали 1 вариант упаковки.\n",
    "\n",
    "\n",
    "Для обучения модели выбрана концепция генерации новых признаков на основе поступающих из запроса данных."
   ]
  },
  {
   "cell_type": "markdown",
   "id": "e36ef10d",
   "metadata": {},
   "source": [
    "## Обучение модели"
   ]
  },
  {
   "cell_type": "code",
   "execution_count": 80,
   "id": "b99fc3e1",
   "metadata": {},
   "outputs": [],
   "source": [
    "#создадим датасет с признаками\n",
    "X = df_raw.drop(['package'], axis=1)"
   ]
  },
  {
   "cell_type": "code",
   "execution_count": 81,
   "id": "f6e1a4ce",
   "metadata": {},
   "outputs": [],
   "source": [
    "#выделем таргет\n",
    "y = df_raw['package']"
   ]
  },
  {
   "cell_type": "code",
   "execution_count": 82,
   "id": "201c8a10",
   "metadata": {},
   "outputs": [],
   "source": [
    "X_train, X_test, y_train, y_test = train_test_split(\n",
    "        X, y, shuffle=True,\n",
    "        test_size=0.25, \n",
    "        stratify=None, \n",
    "        random_state=22)"
   ]
  },
  {
   "cell_type": "code",
   "execution_count": 83,
   "id": "b79fd0ec",
   "metadata": {},
   "outputs": [
    {
     "name": "stdout",
     "output_type": "stream",
     "text": [
      "(127920, 100)\n",
      "(127920,)\n",
      "(42641, 100)\n",
      "(42641,)\n"
     ]
    }
   ],
   "source": [
    "#посмотрим на результат деления\n",
    "print(X_train.shape)\n",
    "print(y_train.shape)\n",
    "print(X_test.shape)\n",
    "print(y_test.shape)"
   ]
  },
  {
   "cell_type": "code",
   "execution_count": 84,
   "id": "4c127e45",
   "metadata": {},
   "outputs": [],
   "source": [
    "#отсротируем столбцы\n",
    "X_train.sort_index(axis=1, inplace=True)"
   ]
  },
  {
   "cell_type": "code",
   "execution_count": 85,
   "id": "086857ff",
   "metadata": {},
   "outputs": [
    {
     "data": {
      "text/plain": [
       "17"
      ]
     },
     "execution_count": 85,
     "metadata": {},
     "output_type": "execute_result"
    }
   ],
   "source": [
    "#посмотрим сколько классов содержится в таргете\n",
    "len(set(y_train))"
   ]
  },
  {
   "cell_type": "code",
   "execution_count": 86,
   "id": "791c2a4e",
   "metadata": {},
   "outputs": [],
   "source": [
    "#зададим метрики\n",
    "scoring = ['accuracy','f1_macro']"
   ]
  },
  {
   "cell_type": "code",
   "execution_count": 87,
   "id": "ac41e842",
   "metadata": {},
   "outputs": [
    {
     "name": "stdout",
     "output_type": "stream",
     "text": [
      "['a', 'a_max', 'a_mean', 'a_min', 'b', 'b_max', 'b_mean', 'b_min', 'c', 'c_max', 'c_mean', 'c_min', 'count', 'goods_wght', 'goods_wght_mean', 'size', 'type_0.0', 'type_1010.0', 'type_1011.0', 'type_110.0', 'type_120.0', 'type_130.0', 'type_1300.0', 'type_140.0', 'type_160.0', 'type_20.0', 'type_200.0', 'type_210.0', 'type_290.0', 'type_291.0', 'type_292.0', 'type_300.0', 'type_301.0', 'type_302.0', 'type_303.0', 'type_305.0', 'type_310.0', 'type_315.0', 'type_320.0', 'type_330.0', 'type_340.0', 'type_350.0', 'type_360.0', 'type_40.0', 'type_400.0', 'type_410.0', 'type_440.0', 'type_441.0', 'type_460.0', 'type_480.0', 'type_485.0', 'type_490.0', 'type_510.0', 'type_520.0', 'type_600.0', 'type_601.0', 'type_610.0', 'type_611.0', 'type_620.0', 'type_621.0', 'type_622.0', 'type_623.0', 'type_640.0', 'type_641.0', 'type_670.0', 'type_671.0', 'type_672.0', 'type_673.0', 'type_690.0', 'type_691.0', 'type_692.0', 'type_710.0', 'type_720.0', 'type_750.0', 'type_751.0', 'type_770.0', 'type_780.0', 'type_790.0', 'type_799.0', 'type_801.0', 'type_81.0', 'type_900.0', 'type_901.0', 'type_905.0', 'type_908.0', 'type_910.0', 'type_911.0', 'type_920.0', 'type_930.0', 'type_931.0', 'type_950.0', 'type_955.0', 'type_960.0', 'type_970.0', 'type_980.0', 'type_990.0', 'volume', 'volume_max', 'volume_mean', 'volume_min']\n"
     ]
    }
   ],
   "source": [
    "#создадим список столбцов для масштабирования\n",
    "num_features = list(X_train.select_dtypes(exclude=['object']).columns.values.tolist())\n",
    "\n",
    "print(num_features)"
   ]
  },
  {
   "cell_type": "code",
   "execution_count": 88,
   "id": "a07f79a1",
   "metadata": {},
   "outputs": [
    {
     "name": "stdout",
     "output_type": "stream",
     "text": [
      "best_score: 0.48451375859912443\n",
      "best_params: {'model__num_leaves': 50, 'model__max_depth': 14, 'model__learning_rate': 0.1}\n"
     ]
    },
    {
     "data": {
      "text/plain": [
       "'best_score: 0.3753388291481426\\nbest_params: {\\'model__num_leaves\\': 60, \\'model__max_depth\\': 10, \\'model__learning_rate\\': 0.1}\\n\"best_score: 0.3758254378119532\\nbest_params: {\\'model__num_leaves\\': 50, \\'model__max_depth\\': 10, \\'model__learning_rate\\': 0.1}\"'"
      ]
     },
     "execution_count": 88,
     "metadata": {},
     "output_type": "execute_result"
    }
   ],
   "source": [
    "#зададим параметры для поиска\n",
    "param_search_lgb = {'model__max_depth': [10, 12, 14],\n",
    "                    'model__learning_rate': [0.1, 0.2],\n",
    "                     'model__num_leaves': [30, 50, 60]}\n",
    "\n",
    "#определим постоянные параметры модели\n",
    "params_lgb = {\n",
    "    'objective': 'multiclass',\n",
    "    'num_class':17,\n",
    "    'metric': 'multi_logloss',\n",
    "    'n_estimators': 500,\n",
    "    'class_weight': 'balanced',\n",
    "    'random_state': RANDOM_STATE}\n",
    "\n",
    "#объявим модель\n",
    "model_lgb = LGBMClassifier(**params_lgb)\n",
    "\n",
    "#создадим пайплайн \n",
    "pipline_lgb = Pipeline(steps=[('scaler', StandardScaler()),\n",
    "                              ('model', model_lgb)])\n",
    "\n",
    "#определим поиск оптимальных параметров и обучение\n",
    "gs_lgb = RandomizedSearchCV(estimator=pipline_lgb, \n",
    "                     cv=5, \n",
    "                     param_distributions=param_search_lgb,\n",
    "                     refit='accuracy',\n",
    "                     scoring= scoring,\n",
    "                     n_jobs=-1)\n",
    "\n",
    "#обучим модель\n",
    "gs_lgb.fit(X_train, y_train)\n",
    "\n",
    "#сохраним лучшие результаты\n",
    "gs_lgb_best_score = gs_lgb.best_score_ \n",
    "gs_lgb_best_params = gs_lgb.best_params_\n",
    "\n",
    "#выведем результаты обучения\n",
    "print(f'best_score: {gs_lgb_best_score}')\n",
    "print(f'best_params: {gs_lgb_best_params}')"
   ]
  },
  {
   "cell_type": "code",
   "execution_count": 96,
   "id": "858aed93",
   "metadata": {},
   "outputs": [],
   "source": [
    "#сохраним лучшую модель\n",
    "model_lgbm = gs_lgb.best_estimator_\n",
    "\n",
    "with open('model_lgbm_v4.pcl', 'bw') as fid:\n",
    "    pickle.dump(model_lgbm, fid) "
   ]
  },
  {
   "cell_type": "code",
   "execution_count": 97,
   "id": "f114906a",
   "metadata": {},
   "outputs": [],
   "source": [
    "#зададим функцию для вывода интересующих метрик\n",
    "def results_gm(model):\n",
    "    \n",
    "    results = pd.DataFrame(model.cv_results_)\n",
    "    table_results = (results[['mean_test_f1_macro', 'mean_test_accuracy']].round(3).head(5)\n",
    "                     .sort_values(by='mean_test_f1_macro', ascending=False))\n",
    "    \n",
    "    return table_results"
   ]
  },
  {
   "cell_type": "code",
   "execution_count": 98,
   "id": "a337340e",
   "metadata": {},
   "outputs": [
    {
     "data": {
      "text/html": [
       "<div>\n",
       "<style scoped>\n",
       "    .dataframe tbody tr th:only-of-type {\n",
       "        vertical-align: middle;\n",
       "    }\n",
       "\n",
       "    .dataframe tbody tr th {\n",
       "        vertical-align: top;\n",
       "    }\n",
       "\n",
       "    .dataframe thead th {\n",
       "        text-align: right;\n",
       "    }\n",
       "</style>\n",
       "<table border=\"1\" class=\"dataframe\">\n",
       "  <thead>\n",
       "    <tr style=\"text-align: right;\">\n",
       "      <th></th>\n",
       "      <th>mean_test_f1_macro</th>\n",
       "      <th>mean_test_accuracy</th>\n",
       "    </tr>\n",
       "  </thead>\n",
       "  <tbody>\n",
       "    <tr>\n",
       "      <th>4</th>\n",
       "      <td>0.376</td>\n",
       "      <td>0.485</td>\n",
       "    </tr>\n",
       "    <tr>\n",
       "      <th>1</th>\n",
       "      <td>0.313</td>\n",
       "      <td>0.440</td>\n",
       "    </tr>\n",
       "    <tr>\n",
       "      <th>2</th>\n",
       "      <td>0.305</td>\n",
       "      <td>0.393</td>\n",
       "    </tr>\n",
       "    <tr>\n",
       "      <th>0</th>\n",
       "      <td>0.106</td>\n",
       "      <td>0.201</td>\n",
       "    </tr>\n",
       "    <tr>\n",
       "      <th>3</th>\n",
       "      <td>0.098</td>\n",
       "      <td>0.152</td>\n",
       "    </tr>\n",
       "  </tbody>\n",
       "</table>\n",
       "</div>"
      ],
      "text/plain": [
       "   mean_test_f1_macro  mean_test_accuracy\n",
       "4               0.376               0.485\n",
       "1               0.313               0.440\n",
       "2               0.305               0.393\n",
       "0               0.106               0.201\n",
       "3               0.098               0.152"
      ]
     },
     "execution_count": 98,
     "metadata": {},
     "output_type": "execute_result"
    }
   ],
   "source": [
    "results = results_gm(gs_lgb)\n",
    "results"
   ]
  },
  {
   "cell_type": "markdown",
   "id": "98b8604c",
   "metadata": {},
   "source": [
    "На данном этапе модель выдает не очень хорошие предсказания. Метрика f1 показывает низкие значения. "
   ]
  },
  {
   "cell_type": "markdown",
   "id": "dc3bb4d3",
   "metadata": {},
   "source": [
    "## Тестирование модели"
   ]
  },
  {
   "cell_type": "code",
   "execution_count": 99,
   "id": "f12404de",
   "metadata": {},
   "outputs": [],
   "source": [
    "# выполним тестирование модели\n",
    "predicted_test = model_lgbm.predict(X_test)"
   ]
  },
  {
   "cell_type": "code",
   "execution_count": 100,
   "id": "8424ac9b",
   "metadata": {},
   "outputs": [
    {
     "name": "stdout",
     "output_type": "stream",
     "text": [
      "              precision    recall  f1-score   support\n",
      "\n",
      "         MYA       0.13      0.08      0.10      4049\n",
      "         MYB       0.24      0.52      0.33     10310\n",
      "         MYC       0.07      0.00      0.00      7681\n",
      "         MYD       0.27      0.06      0.10      3447\n",
      "         MYE       0.03      0.03      0.03      1211\n",
      "         MYF       0.00      0.00      0.00       228\n",
      "     NONPACK       0.13      0.29      0.18      5819\n",
      "     STRETCH       0.30      0.02      0.04      2559\n",
      "         YMA       0.04      0.00      0.00      1730\n",
      "         YMC       0.03      0.03      0.03      2045\n",
      "         YME       0.00      0.00      0.00       395\n",
      "         YMF       0.05      0.01      0.01      1096\n",
      "         YMG       0.00      0.00      0.00       975\n",
      "         YML       0.00      0.00      0.00        44\n",
      "         YMW       0.20      0.00      0.00      1022\n",
      "         YMX       0.00      0.00      0.00        30\n",
      "\n",
      "    accuracy                           0.18     42641\n",
      "   macro avg       0.09      0.07      0.05     42641\n",
      "weighted avg       0.15      0.18      0.13     42641\n",
      "\n"
     ]
    }
   ],
   "source": [
    "#выведем отчет\n",
    "print(classification_report(y_test, predicted_test))"
   ]
  },
  {
   "cell_type": "markdown",
   "id": "8106aeda",
   "metadata": {},
   "source": [
    "## Вывод\n",
    "\n",
    "В результате разработки алгоритма выполнены следующие этапы:\n",
    "1. задан параметр RANDOM_STATE = 42;\n",
    "2. изучены данные;\n",
    "3. выполнена предобработка;\n",
    "4. проведен ислледовательский анализ данных;\n",
    "5. разработаны функции для генерации новых признаков;\n",
    "6. разработан пайплайн модели машинного обучения.\n",
    "\n",
    "В основу алгоритма рекомендации упаковки разработана модель LGBMClassifier со следующими параметрами:\n",
    "- objective: 'multiclass';\n",
    "- num_class:17;\n",
    "- metric': 'multi_logloss';\n",
    "- num_leaves': 50;\n",
    "- learning_rate': 0.1;\n",
    "- n_estimators': 500;\n",
    "- class_weight': 'balanced';\n",
    "- max_depth: 14.\n",
    "\n",
    "При тестировании модели можно увидеть, какие категории предсказваются лучше остальных. Так категории упаковок пакеты MYB и MYC получили чуть более лучшую метрику f1. В случае выбора оптимального размера коробки, более критичной является ошибка первого рода. Ведь если алгоритм предскажет не оптимальную коробку, сотрудник потратит время на выбор другой, возможно неправильно оценит хрупкость и тогда пострадает уже клиент. Поэтому в дальнейшем важно уделить внимание метрике recall."
   ]
  },
  {
   "cell_type": "code",
   "execution_count": null,
   "id": "d4f2317f",
   "metadata": {},
   "outputs": [],
   "source": []
  }
 ],
 "metadata": {
  "kernelspec": {
   "display_name": "Python 3 (ipykernel)",
   "language": "python",
   "name": "python3"
  },
  "language_info": {
   "codemirror_mode": {
    "name": "ipython",
    "version": 3
   },
   "file_extension": ".py",
   "mimetype": "text/x-python",
   "name": "python",
   "nbconvert_exporter": "python",
   "pygments_lexer": "ipython3",
   "version": "3.9.12"
  },
  "toc": {
   "base_numbering": 1,
   "nav_menu": {},
   "number_sections": true,
   "sideBar": true,
   "skip_h1_title": true,
   "title_cell": "Table of Contents",
   "title_sidebar": "Contents",
   "toc_cell": true,
   "toc_position": {},
   "toc_section_display": true,
   "toc_window_display": false
  }
 },
 "nbformat": 4,
 "nbformat_minor": 5
}
